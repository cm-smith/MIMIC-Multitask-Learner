{
 "cells": [
  {
   "cell_type": "markdown",
   "id": "2768b0d5-298f-4e9a-9171-d6184e3b51d1",
   "metadata": {
    "tags": []
   },
   "source": [
    "# Baseline Model Dev\n",
    "---"
   ]
  },
  {
   "cell_type": "markdown",
   "id": "b7244037-c6f8-4f08-935c-2586b0f5f01b",
   "metadata": {},
   "source": [
    "## Pull in data"
   ]
  },
  {
   "cell_type": "code",
   "execution_count": 1,
   "id": "ed9ef92b-bad2-4ac5-9c55-3b152adec905",
   "metadata": {},
   "outputs": [
    {
     "name": "stdout",
     "output_type": "stream",
     "text": [
      "__init__.py   \u001b[34mmodels\u001b[m\u001b[m        train.py\n",
      "\u001b[34m__pycache__\u001b[m\u001b[m   preprocess.py utils.py\n"
     ]
    }
   ],
   "source": [
    "!ls ../../src"
   ]
  },
  {
   "cell_type": "code",
   "execution_count": 2,
   "id": "332f885d-510b-4930-851c-3b963a177b2c",
   "metadata": {},
   "outputs": [],
   "source": [
    "import sys\n",
    "sys.path.append('../../')\n",
    "\n",
    "import importlib\n",
    "import src.utils"
   ]
  },
  {
   "cell_type": "code",
   "execution_count": 7,
   "id": "0efc7635-c93e-4cdc-98e2-6fc5dbfc1138",
   "metadata": {},
   "outputs": [],
   "source": [
    "# IF YOU EVER CHANGE .PY FILES, RERUN THIS CODE BLOCK\n",
    "importlib.reload(src.utils)\n",
    "from src.utils import get_mimic_data, filter_mimic_day1, MimicDataMI, MimicDataSepsis"
   ]
  },
  {
   "cell_type": "code",
   "execution_count": 4,
   "id": "9be5ed68-8a85-499c-82ff-0c14571d6546",
   "metadata": {},
   "outputs": [
    {
     "name": "stdout",
     "output_type": "stream",
     "text": [
      "Reading in MIMIC data at the HADMI_ID/HADMID_DAY-level\n"
     ]
    },
    {
     "name": "stderr",
     "output_type": "stream",
     "text": [
      "/Users/michaelsmith/Documents/Code/mimic_multitask_learner/notebooks/michael_notebooks/../../src/utils.py:7: DtypeWarning: Columns (150,152) have mixed types. Specify dtype option on import or set low_memory=False.\n",
      "  df = pd.read_csv(loc)\n"
     ]
    },
    {
     "name": "stdout",
     "output_type": "stream",
     "text": [
      "Fetched data of shape: (628391, 235)\n"
     ]
    }
   ],
   "source": [
    "df = get_mimic_data(loc='../../data/CHARTEVENTS_reduced_24_hour_blocks_plus_admissions_plus_patients_plus_scripts_plus_icds_plus_notes.csv')"
   ]
  },
  {
   "cell_type": "code",
   "execution_count": 8,
   "id": "c5646b8c-4e15-4f8c-91dd-f3c3f9faffcf",
   "metadata": {},
   "outputs": [
    {
     "name": "stdout",
     "output_type": "stream",
     "text": [
      "Filtering only on day 1 in the ICU\n",
      "Baseline data shape: (58034, 235)\n"
     ]
    },
    {
     "data": {
      "text/html": [
       "<div>\n",
       "<style scoped>\n",
       "    .dataframe tbody tr th:only-of-type {\n",
       "        vertical-align: middle;\n",
       "    }\n",
       "\n",
       "    .dataframe tbody tr th {\n",
       "        vertical-align: top;\n",
       "    }\n",
       "\n",
       "    .dataframe thead th {\n",
       "        text-align: right;\n",
       "    }\n",
       "</style>\n",
       "<table border=\"1\" class=\"dataframe\">\n",
       "  <thead>\n",
       "    <tr style=\"text-align: right;\">\n",
       "      <th></th>\n",
       "      <th>BUN</th>\n",
       "      <th>HDL</th>\n",
       "      <th>INR</th>\n",
       "      <th>Inspired O2 Fraction</th>\n",
       "      <th>LDL</th>\n",
       "      <th>PEEP Set</th>\n",
       "      <th>PTT</th>\n",
       "      <th>RBCs</th>\n",
       "      <th>WBCs</th>\n",
       "      <th>anion gap</th>\n",
       "      <th>...</th>\n",
       "      <th>tacrolimus</th>\n",
       "      <th>trazodone</th>\n",
       "      <th>vancomycin</th>\n",
       "      <th>vasopressin</th>\n",
       "      <th>warfarin</th>\n",
       "      <th>zolpidem</th>\n",
       "      <th>HADM_ID</th>\n",
       "      <th>CKD</th>\n",
       "      <th>Infection</th>\n",
       "      <th>ct_angio</th>\n",
       "    </tr>\n",
       "  </thead>\n",
       "  <tbody>\n",
       "    <tr>\n",
       "      <th>0</th>\n",
       "      <td>41.0</td>\n",
       "      <td>41.0</td>\n",
       "      <td>15.3</td>\n",
       "      <td>50.0</td>\n",
       "      <td>81.0</td>\n",
       "      <td>5.0</td>\n",
       "      <td>32.4</td>\n",
       "      <td>3.39</td>\n",
       "      <td>11.2</td>\n",
       "      <td>18.0</td>\n",
       "      <td>...</td>\n",
       "      <td>0.0</td>\n",
       "      <td>0.0</td>\n",
       "      <td>0.0</td>\n",
       "      <td>0.0</td>\n",
       "      <td>0.0</td>\n",
       "      <td>0.0</td>\n",
       "      <td>100001</td>\n",
       "      <td>0</td>\n",
       "      <td>1</td>\n",
       "      <td>0</td>\n",
       "    </tr>\n",
       "    <tr>\n",
       "      <th>5</th>\n",
       "      <td>49.0</td>\n",
       "      <td>41.0</td>\n",
       "      <td>15.3</td>\n",
       "      <td>50.0</td>\n",
       "      <td>81.0</td>\n",
       "      <td>5.0</td>\n",
       "      <td>32.4</td>\n",
       "      <td>3.39</td>\n",
       "      <td>13.4</td>\n",
       "      <td>10.0</td>\n",
       "      <td>...</td>\n",
       "      <td>0.0</td>\n",
       "      <td>0.0</td>\n",
       "      <td>1.0</td>\n",
       "      <td>0.0</td>\n",
       "      <td>0.0</td>\n",
       "      <td>0.0</td>\n",
       "      <td>100003</td>\n",
       "      <td>0</td>\n",
       "      <td>1</td>\n",
       "      <td>0</td>\n",
       "    </tr>\n",
       "    <tr>\n",
       "      <th>8</th>\n",
       "      <td>23.0</td>\n",
       "      <td>41.0</td>\n",
       "      <td>15.3</td>\n",
       "      <td>50.0</td>\n",
       "      <td>81.0</td>\n",
       "      <td>5.0</td>\n",
       "      <td>32.4</td>\n",
       "      <td>3.39</td>\n",
       "      <td>10.9</td>\n",
       "      <td>13.0</td>\n",
       "      <td>...</td>\n",
       "      <td>0.0</td>\n",
       "      <td>0.0</td>\n",
       "      <td>0.0</td>\n",
       "      <td>0.0</td>\n",
       "      <td>1.0</td>\n",
       "      <td>0.0</td>\n",
       "      <td>100006</td>\n",
       "      <td>0</td>\n",
       "      <td>1</td>\n",
       "      <td>1</td>\n",
       "    </tr>\n",
       "    <tr>\n",
       "      <th>14</th>\n",
       "      <td>12.0</td>\n",
       "      <td>41.0</td>\n",
       "      <td>15.3</td>\n",
       "      <td>50.0</td>\n",
       "      <td>81.0</td>\n",
       "      <td>5.0</td>\n",
       "      <td>32.4</td>\n",
       "      <td>4.01</td>\n",
       "      <td>12.3</td>\n",
       "      <td>13.0</td>\n",
       "      <td>...</td>\n",
       "      <td>0.0</td>\n",
       "      <td>0.0</td>\n",
       "      <td>0.0</td>\n",
       "      <td>0.0</td>\n",
       "      <td>0.0</td>\n",
       "      <td>0.0</td>\n",
       "      <td>100007</td>\n",
       "      <td>0</td>\n",
       "      <td>1</td>\n",
       "      <td>0</td>\n",
       "    </tr>\n",
       "    <tr>\n",
       "      <th>22</th>\n",
       "      <td>23.0</td>\n",
       "      <td>41.0</td>\n",
       "      <td>15.3</td>\n",
       "      <td>50.0</td>\n",
       "      <td>81.0</td>\n",
       "      <td>5.0</td>\n",
       "      <td>32.4</td>\n",
       "      <td>3.39</td>\n",
       "      <td>10.9</td>\n",
       "      <td>13.0</td>\n",
       "      <td>...</td>\n",
       "      <td>0.0</td>\n",
       "      <td>0.0</td>\n",
       "      <td>0.0</td>\n",
       "      <td>0.0</td>\n",
       "      <td>0.0</td>\n",
       "      <td>0.0</td>\n",
       "      <td>100010</td>\n",
       "      <td>0</td>\n",
       "      <td>0</td>\n",
       "      <td>1</td>\n",
       "    </tr>\n",
       "  </tbody>\n",
       "</table>\n",
       "<p>5 rows × 235 columns</p>\n",
       "</div>"
      ],
      "text/plain": [
       "     BUN   HDL   INR  Inspired O2 Fraction   LDL  PEEP Set   PTT  RBCs  WBCs  \\\n",
       "0   41.0  41.0  15.3                  50.0  81.0       5.0  32.4  3.39  11.2   \n",
       "5   49.0  41.0  15.3                  50.0  81.0       5.0  32.4  3.39  13.4   \n",
       "8   23.0  41.0  15.3                  50.0  81.0       5.0  32.4  3.39  10.9   \n",
       "14  12.0  41.0  15.3                  50.0  81.0       5.0  32.4  4.01  12.3   \n",
       "22  23.0  41.0  15.3                  50.0  81.0       5.0  32.4  3.39  10.9   \n",
       "\n",
       "    anion gap  ...  tacrolimus  trazodone  vancomycin  vasopressin  warfarin  \\\n",
       "0        18.0  ...         0.0        0.0         0.0          0.0       0.0   \n",
       "5        10.0  ...         0.0        0.0         1.0          0.0       0.0   \n",
       "8        13.0  ...         0.0        0.0         0.0          0.0       1.0   \n",
       "14       13.0  ...         0.0        0.0         0.0          0.0       0.0   \n",
       "22       13.0  ...         0.0        0.0         0.0          0.0       0.0   \n",
       "\n",
       "    zolpidem  HADM_ID  CKD  Infection  ct_angio  \n",
       "0        0.0   100001    0          1         0  \n",
       "5        0.0   100003    0          1         0  \n",
       "8        0.0   100006    0          1         1  \n",
       "14       0.0   100007    0          1         0  \n",
       "22       0.0   100010    0          0         1  \n",
       "\n",
       "[5 rows x 235 columns]"
      ]
     },
     "execution_count": 8,
     "metadata": {},
     "output_type": "execute_result"
    }
   ],
   "source": [
    "baseline_df = filter_mimic_day1(df)\n",
    "baseline_df.head()"
   ]
  },
  {
   "cell_type": "code",
   "execution_count": 9,
   "id": "01358141-12ab-4dbe-addf-af5d77125289",
   "metadata": {},
   "outputs": [
    {
     "name": "stdout",
     "output_type": "stream",
     "text": [
      "Total sepsis events:\n",
      "0    45973\n",
      "1    12061\n",
      "Name: Sepsis, dtype: int64\n",
      "Total MI events:\n",
      "0    56968\n",
      "1     1066\n",
      "Name: MI, dtype: int64\n"
     ]
    }
   ],
   "source": [
    "sepsis_data = MimicDataSepsis(baseline_df)\n",
    "mi_data = MimicDataMI(baseline_df)"
   ]
  },
  {
   "cell_type": "markdown",
   "id": "1bf0c86d-f25d-4477-a2e9-12a0d4458024",
   "metadata": {
    "tags": []
   },
   "source": [
    "## Logistic Regression for Day 1"
   ]
  },
  {
   "cell_type": "code",
   "execution_count": 10,
   "id": "8d187469-594e-4dd0-bc27-2d6c9e5a2fb0",
   "metadata": {},
   "outputs": [
    {
     "name": "stdout",
     "output_type": "stream",
     "text": [
      "Splitting data with 30.00% test split\n",
      "Train data has shape: (40623, 241)\n",
      "Test data shape: (17411, 241)\n",
      "Stratified by target variable: Sepsis\n",
      "8443/40623 events in train; 3618/17411 events in test\n",
      "Dropping columns: ['HADM_ID', 'SUBJECT_ID', 'HADMID_DAY', 'DOB', 'ADMITTIME', 'hr_sepsis', 'respiratory rate_sepsis', 'wbc_sepsis', 'temperature f_sepsis', 'sepsis_points', 'Sepsis']\n",
      "Shape of X features: (40623, 230)\n",
      "Accuracy: 0.8947791625983573\n",
      "AUROC: 0.8573308983436795\n"
     ]
    },
    {
     "name": "stderr",
     "output_type": "stream",
     "text": [
      "/Users/michaelsmith/anaconda3/envs/epi290/lib/python3.9/site-packages/sklearn/svm/_base.py:1206: ConvergenceWarning: Liblinear failed to converge, increase the number of iterations.\n",
      "  warnings.warn(\n"
     ]
    }
   ],
   "source": [
    "from sklearn.linear_model import LogisticRegression\n",
    "from sklearn.metrics import accuracy_score, roc_auc_score\n",
    "\n",
    "sepsis_data.split_train_test()\n",
    "\n",
    "sepsis_lr = LogisticRegression(solver='liblinear', random_state=0)\n",
    "sepsis_lr.fit(sepsis_data.get_train_feats(), sepsis_data.get_train_target())\n",
    "\n",
    "pred_y_test_sepsis = sepsis_lr.predict(sepsis_data.get_test_feats())\n",
    "test_acc_sepsis = accuracy_score(pred_y_test_sepsis, sepsis_data.get_test_target())\n",
    "test_roc_sepsis = roc_auc_score(pred_y_test_sepsis, sepsis_data.get_test_target())\n",
    "\n",
    "print(f'Accuracy: {test_acc_sepsis}')\n",
    "print(f'AUROC: {test_roc_sepsis}')"
   ]
  },
  {
   "cell_type": "code",
   "execution_count": 11,
   "id": "5bd15d74-16f8-44a0-8067-7381da460009",
   "metadata": {},
   "outputs": [
    {
     "name": "stdout",
     "output_type": "stream",
     "text": [
      "Splitting data with 30.00% test split\n",
      "Train data has shape: (40623, 236)\n",
      "Test data shape: (17411, 236)\n",
      "Stratified by target variable: MI\n",
      "746/40623 events in train; 320/17411 events in test\n",
      "Dropping columns: ['HADM_ID', 'SUBJECT_ID', 'HADMID_DAY', 'DOB', 'ADMITTIME', 'troponin', 'troponin_std', 'troponin_min', 'troponin_max', 'MI']\n",
      "Shape of X features: (40623, 226)\n",
      "Accuracy: 0.98144850956292\n",
      "AUROC: 0.7239215665270532\n"
     ]
    },
    {
     "name": "stderr",
     "output_type": "stream",
     "text": [
      "/Users/michaelsmith/anaconda3/envs/epi290/lib/python3.9/site-packages/sklearn/svm/_base.py:1206: ConvergenceWarning: Liblinear failed to converge, increase the number of iterations.\n",
      "  warnings.warn(\n"
     ]
    }
   ],
   "source": [
    "mi_data.split_train_test()\n",
    "\n",
    "mi_lr = LogisticRegression(solver='liblinear', random_state=0)\n",
    "mi_lr.fit(mi_data.get_train_feats(), mi_data.get_train_target())\n",
    "\n",
    "pred_y_test_mi = mi_lr.predict(mi_data.get_test_feats())\n",
    "test_acc_mi = accuracy_score(pred_y_test_mi, mi_data.get_test_target())\n",
    "test_roc_mi = roc_auc_score(pred_y_test_mi, mi_data.get_test_target())\n",
    "\n",
    "print(f'Accuracy: {test_acc_mi}')\n",
    "print(f'AUROC: {test_roc_mi}')"
   ]
  },
  {
   "cell_type": "markdown",
   "id": "d2927872-9461-436e-ba4c-673b37382e9f",
   "metadata": {},
   "source": [
    "## Multilayer Perceptron (MLP) for Day 1"
   ]
  },
  {
   "cell_type": "code",
   "execution_count": null,
   "id": "319b01b6-ffea-4c11-b4f4-12fa144d222d",
   "metadata": {},
   "outputs": [],
   "source": [
    "from keras.models import Sequential\n",
    "from keras.layers import Dense, Dropout, Activation\n",
    "from tensorflow.keras.optimizers import SGD, Adam\n",
    "from tensorflow.keras import metrics\n",
    "\n",
    "N_EPOCHS = 10\n",
    "BATCH_SIZE = 30\n",
    "\n",
    "mi_mlp = Sequential()\n",
    "num_features = mi_data.get_feats().shape[1]\n",
    "\n",
    "mi_mlp = Sequential()\n",
    "mi_mlp.add(Dense(units=32, activation='relu', input_dim=num_features, name='hidden_layer'))\n",
    "mi_mlp.add(Dense(units=1, activation='sigmoid', name='output_layer')) \n",
    "\n",
    "opt = SGD(learning_rate=0.1)\n",
    "\n",
    "METRICS = [\n",
    "      metrics.BinaryAccuracy(name='accuracy'),\n",
    "      #metrics.AUC(name='auc'),\n",
    "]\n",
    "\n",
    "mi_mlp.compile(optimizer=opt, loss='binary_crossentropy', metrics=METRICS)\n",
    "mi_mlp.summary()\n",
    "\n",
    "history = mi_mlp.fit(x=mi_data.get_train_feats(), \n",
    "         y=mi_data.get_train_target(),\n",
    "         validation_data = (mi_data.get_test_feats(), mi_data.get_test_target()),\n",
    "         batch_size=BATCH_SIZE,\n",
    "         epochs=N_EPOCHS)"
   ]
  },
  {
   "cell_type": "code",
   "execution_count": null,
   "id": "34ed619d-ff0e-45ca-acec-e6fba9c67dc2",
   "metadata": {},
   "outputs": [],
   "source": [
    "N_EPOCHS = 10\n",
    "BATCH_SIZE = 30\n",
    "\n",
    "sepsis_mlp = Sequential()\n",
    "num_features = sepsis_data.get_feats().shape[1]\n",
    "\n",
    "sepsis_mlp = Sequential()\n",
    "sepsis_mlp.add(Dense(units=32, activation='relu', input_dim=num_features, name='hidden_layer'))\n",
    "sepsis_mlp.add(Dense(units=1, activation='sigmoid', name='output_layer')) \n",
    "\n",
    "opt = SGD(learning_rate=0.1)\n",
    "\n",
    "METRICS = [\n",
    "      metrics.BinaryAccuracy(name='accuracy'),\n",
    "      #metrics.AUC(name='auc'),\n",
    "]\n",
    "\n",
    "sepsis_mlp.compile(optimizer=opt, loss='binary_crossentropy', metrics=METRICS)\n",
    "sepsis_mlp.summary()\n",
    "\n",
    "history = sepsis_mlp.fit(x=sepsis_data.get_train_feats(), \n",
    "         y=sepsis_data.get_train_target(),\n",
    "         validation_data = (sepsis_data.get_test_feats(), sepsis_data.get_test_target()),\n",
    "         batch_size=BATCH_SIZE,\n",
    "         epochs=N_EPOCHS)"
   ]
  },
  {
   "cell_type": "code",
   "execution_count": null,
   "id": "be58fe7c-01d4-4092-a194-10ce61c54a68",
   "metadata": {},
   "outputs": [],
   "source": []
  }
 ],
 "metadata": {
  "kernelspec": {
   "display_name": "Python 3 (ipykernel)",
   "language": "python",
   "name": "python3"
  },
  "language_info": {
   "codemirror_mode": {
    "name": "ipython",
    "version": 3
   },
   "file_extension": ".py",
   "mimetype": "text/x-python",
   "name": "python",
   "nbconvert_exporter": "python",
   "pygments_lexer": "ipython3",
   "version": "3.9.12"
  }
 },
 "nbformat": 4,
 "nbformat_minor": 5
}
