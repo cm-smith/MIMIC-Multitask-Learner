{
  "nbformat": 4,
  "nbformat_minor": 0,
  "metadata": {
    "colab": {
      "name": "MIMIC Multitask Learner_ML.ipynb",
      "provenance": [],
      "collapsed_sections": [],
      "include_colab_link": true
    },
    "kernelspec": {
      "name": "python3",
      "display_name": "Python 3"
    },
    "language_info": {
      "name": "python"
    },
    "accelerator": "GPU"
  },
  "cells": [
    {
      "cell_type": "markdown",
      "metadata": {
        "id": "view-in-github",
        "colab_type": "text"
      },
      "source": [
        "<a href=\"https://colab.research.google.com/github/cm-smith/MIMIC-Multitask-Learner/blob/main/MIMIC_Multitask_Learner_ML.ipynb\" target=\"_parent\"><img src=\"https://colab.research.google.com/assets/colab-badge.svg\" alt=\"Open In Colab\"/></a>"
      ]
    },
    {
      "cell_type": "code",
      "source": [
        "# Mount your Google Drive\n",
        "from google.colab import drive\n",
        "drive.mount('/content/drive')"
      ],
      "metadata": {
        "id": "G40WvNyU5iYE",
        "colab": {
          "base_uri": "https://localhost:8080/"
        },
        "outputId": "e90e3c90-4bdb-4428-d58b-b6b4b8228dc0"
      },
      "execution_count": 1,
      "outputs": [
        {
          "output_type": "stream",
          "name": "stdout",
          "text": [
            "Mounted at /content/drive\n"
          ]
        }
      ]
    },
    {
      "cell_type": "code",
      "source": [
        "import os\n",
        "os.chdir('/content/drive/Othercomputers/My MacBook Pro/MIMIC_DL_Project/MIMIC-Multitask-Learner')"
      ],
      "metadata": {
        "id": "cgiIehbuncmp"
      },
      "execution_count": 2,
      "outputs": []
    },
    {
      "cell_type": "code",
      "source": [
        "ls"
      ],
      "metadata": {
        "colab": {
          "base_uri": "https://localhost:8080/"
        },
        "id": "c9yCsGjrS4UD",
        "outputId": "c8a1c9e5-782b-4d97-d96f-dd01beaa7209"
      },
      "execution_count": 3,
      "outputs": [
        {
          "output_type": "stream",
          "name": "stdout",
          "text": [
            "\u001b[0m\u001b[01;34mdata\u001b[0m/        README.md  Tutorial__Advanced_Colab_Development_Environment.pdf\n",
            "__init__.py  \u001b[01;34msrc\u001b[0m/\n"
          ]
        }
      ]
    },
    {
      "cell_type": "code",
      "execution_count": 4,
      "metadata": {
        "id": "sSS-5lDowrJ6",
        "cellView": "form",
        "colab": {
          "base_uri": "https://localhost:8080/"
        },
        "outputId": "18dcad9e-f3f5-4507-83d7-5797761c62c4"
      },
      "outputs": [
        {
          "output_type": "stream",
          "name": "stdout",
          "text": [
            "\n",
            "Installing user's Python version... done\n",
            "\n",
            "Verify the desired Python version prints below:\n",
            "> Python 3.9.12\n",
            "\n",
            "And verify that you can see your project directory's contents with: %ls\n",
            "> \u001b[0m\u001b[01;34mdata\u001b[0m/        README.md  Tutorial__Advanced_Colab_Development_Environment.pdf\n",
            "__init__.py  \u001b[01;34msrc\u001b[0m/\n"
          ]
        }
      ],
      "source": [
        "#@title Run this code cell to import your project directory into Colab\n",
        "import os, sys, time\n",
        "import os.path as op\n",
        "\n",
        "#@markdown Enter your project details:\n",
        "project_path = \"/content/drive/Othercomputers/My MacBook Pro/MIMIC_DL_Project/MIMIC-Multitask-Learner\" #@param {type: \"string\"}\n",
        "project_name = project_path.split(\"/\")[-1]\n",
        "\n",
        "#@markdown Note: you can find the path to your project folder on Google Drive by \n",
        "#@markdown searching in the Colab file system under /content/drive/ (link active once you mount your Google Drive) \n",
        "#@markdown and most likely the 'Othercomputers/' subfolder (depending on your specific\n",
        "#@markdown Google Drive setup).\n",
        "\n",
        "if not os.path.exists(project_path):\n",
        "  print(f\"Colab could not access the project_path you provided: {project_path}\\n \\\n",
        "  Make sure that you have mounted your Google Drive and provide an absolute path to your project folder.\")\n",
        "  sys.exit()\n",
        "\n",
        "# copy project contents into working dir\n",
        "%cp -R \"{project_path}\" /content/ &> /dev/null\n",
        "\n",
        "requirements_filename = \"\" #@param {type: \"string\"}\n",
        "\n",
        "#@markdown If you do not want any `pip install` to be executed by this cell,\n",
        "#@markdown leave `requirements_filename` blank.\n",
        "\n",
        "python_version = \"3.9\" #@param [\"3.7\", \"3.8\", \"3.9\", \"3.10\"]\n",
        "\n",
        "#@markdown You can ensure that Colab executes a script with your desired version\n",
        "#@markdown of Python by specifying the version number in the command, such as: `!python3.9 your_script.py`\n",
        "\n",
        "# Add a Google Drive path to project dependencies\n",
        "dependencies_path = f'/content/{project_name}_packages_symlink'\n",
        "if not os.path.exists(dependencies_path):\n",
        "  package_src_path = f\"/content/drive/MyDrive/{project_name}_packages\"\n",
        "\n",
        "  if not os.path.exists(package_src_path):\n",
        "    %mkdir \"{package_src_path}\"\n",
        "\n",
        "  os.symlink(package_src_path, dependencies_path)\n",
        "  sys.path.insert(0, dependencies_path)\n",
        "\n",
        "# cd into the Colab copy of the project directory\n",
        "colab_project_path = op.join(\"/content/\", f\"{project_name}\")\n",
        "%cd -q {colab_project_path}\n",
        "\n",
        "# install the user's Python version\n",
        "print(\"\\nInstalling user's Python version...\", end =\" \")\n",
        "!apt-get -qq update\n",
        "!apt-get -qq install python$python_version > /dev/null\n",
        "print(\"done\\n\")\n",
        "\n",
        "# Updates or installs any packages that aren't up-to-date with requirements.txt\n",
        "if requirements_filename != \"\":\n",
        "  print(\"Installing user's Python requirements...\", end=\" \")\n",
        "  %pip -r {requirements_filename} --target=$dependencies_path &> /dev/null\n",
        "  print(\"done\\n\")\n",
        "\n",
        "print(\"Verify the desired Python version prints below:\")\n",
        "print(\"> \", end=\"\") \n",
        "!python$python_version --version\n",
        "\n",
        "print(\"\\nAnd verify that you can see your project directory's contents with: %ls\")\n",
        "print(\"> \", end=\"\")\n",
        "%ls"
      ]
    },
    {
      "cell_type": "code",
      "source": [
        "!python --version"
      ],
      "metadata": {
        "colab": {
          "base_uri": "https://localhost:8080/"
        },
        "id": "cS8IHGRWUFon",
        "outputId": "847dcd63-39c0-40a2-9b6c-b6f9527b907b"
      },
      "execution_count": 5,
      "outputs": [
        {
          "output_type": "stream",
          "name": "stdout",
          "text": [
            "Python 3.7.13\n"
          ]
        }
      ]
    },
    {
      "cell_type": "code",
      "source": [
        "!ls ./data"
      ],
      "metadata": {
        "id": "YuwLbl07UHvW",
        "colab": {
          "base_uri": "https://localhost:8080/"
        },
        "outputId": "10688e02-976a-49cf-e486-1176a8a23d42"
      },
      "execution_count": 6,
      "outputs": [
        {
          "output_type": "stream",
          "name": "stdout",
          "text": [
            "CHARTEVENTS_reduced_24_hour_blocks_plus_admissions_plus_patients_plus_scripts_plus_icds_plus_notes.csv\n"
          ]
        }
      ]
    },
    {
      "cell_type": "code",
      "source": [
        "import pandas as pd\n",
        "import numpy as np\n",
        "import matplotlib.pyplot as plt\n",
        "%matplotlib inline\n",
        "\n",
        "\n",
        "df = pd.read_csv(\"data/CHARTEVENTS_reduced_24_hour_blocks_plus_admissions_plus_patients_plus_scripts_plus_icds_plus_notes.csv\")"
      ],
      "metadata": {
        "colab": {
          "base_uri": "https://localhost:8080/"
        },
        "id": "p68JcEMTxJSY",
        "outputId": "70d0c848-db69-4990-ed7e-1cff566ec414"
      },
      "execution_count": 7,
      "outputs": [
        {
          "output_type": "stream",
          "name": "stderr",
          "text": [
            "/usr/local/lib/python3.7/dist-packages/IPython/core/interactiveshell.py:2882: DtypeWarning: Columns (150,152) have mixed types.Specify dtype option on import or set low_memory=False.\n",
            "  exec(code_obj, self.user_global_ns, self.user_ns)\n"
          ]
        }
      ]
    },
    {
      "cell_type": "code",
      "source": [
        "## display all outputs\n",
        "from IPython.core.interactiveshell import InteractiveShell\n",
        "InteractiveShell.ast_node_interactivity = \"all\""
      ],
      "metadata": {
        "id": "wT1MRdMPlueS"
      },
      "execution_count": 8,
      "outputs": []
    },
    {
      "cell_type": "code",
      "source": [
        "df.shape"
      ],
      "metadata": {
        "id": "jqA1HScXycRH",
        "colab": {
          "base_uri": "https://localhost:8080/"
        },
        "outputId": "6421a4d8-3f36-4244-98d5-3fa883bbe8ee"
      },
      "execution_count": 9,
      "outputs": [
        {
          "output_type": "execute_result",
          "data": {
            "text/plain": [
              "(628391, 235)"
            ]
          },
          "metadata": {},
          "execution_count": 9
        }
      ]
    },
    {
      "cell_type": "code",
      "source": [
        "df.columns.tolist()"
      ],
      "metadata": {
        "colab": {
          "base_uri": "https://localhost:8080/"
        },
        "id": "Nq6DrWo-LfeG",
        "outputId": "3ab24946-5a65-4590-d73c-13cc3b4cc471"
      },
      "execution_count": 10,
      "outputs": [
        {
          "output_type": "execute_result",
          "data": {
            "text/plain": [
              "['BUN',\n",
              " 'HDL',\n",
              " 'INR',\n",
              " 'Inspired O2 Fraction',\n",
              " 'LDL',\n",
              " 'PEEP Set',\n",
              " 'PTT',\n",
              " 'RBCs',\n",
              " 'WBCs',\n",
              " 'anion gap',\n",
              " 'atypical lymphocytes',\n",
              " 'bands',\n",
              " 'basophils',\n",
              " 'blood culture',\n",
              " 'central venous pressure',\n",
              " 'chloride',\n",
              " 'creatinine',\n",
              " 'daily weight',\n",
              " 'diabetes',\n",
              " 'diastolic',\n",
              " 'eosinophils',\n",
              " 'glucose',\n",
              " 'heart rate',\n",
              " 'hemocrit',\n",
              " 'hemoglobin',\n",
              " 'lymphocytes',\n",
              " 'monocytes',\n",
              " 'neutrophils',\n",
              " 'platelets',\n",
              " 'polymorphonuclear leukocytes',\n",
              " 'potassium_x',\n",
              " 'pulse oximetry',\n",
              " 'respiratory rate',\n",
              " 'sodium',\n",
              " 'systolic',\n",
              " 'temperature (F)',\n",
              " 'tidal volume',\n",
              " 'tobacco',\n",
              " 'triglycerides',\n",
              " 'troponin',\n",
              " 'BUN_std',\n",
              " 'HDL_std',\n",
              " 'INR_std',\n",
              " 'Inspired O2 Fraction_std',\n",
              " 'LDL_std',\n",
              " 'PEEP Set_std',\n",
              " 'PTT_std',\n",
              " 'RBCs_std',\n",
              " 'WBCs_std',\n",
              " 'anion gap_std',\n",
              " 'atypical lymphocytes_std',\n",
              " 'bands_std',\n",
              " 'basophils_std',\n",
              " 'central venous pressure_std',\n",
              " 'chloride_std',\n",
              " 'creatinine_std',\n",
              " 'diastolic_std',\n",
              " 'eosinophils_std',\n",
              " 'glucose_std',\n",
              " 'heart rate_std',\n",
              " 'hemocrit_std',\n",
              " 'hemoglobin_std',\n",
              " 'lymphocytes_std',\n",
              " 'monocytes_std',\n",
              " 'neutrophils_std',\n",
              " 'platelets_std',\n",
              " 'polymorphonuclear leukocytes_std',\n",
              " 'potassium_std',\n",
              " 'pulse oximetry_std',\n",
              " 'respiratory rate_std',\n",
              " 'sodium_std',\n",
              " 'systolic_std',\n",
              " 'temperature (F)_std',\n",
              " 'tidal volume_std',\n",
              " 'triglycerides_std',\n",
              " 'troponin_std',\n",
              " 'BUN_min',\n",
              " 'HDL_min',\n",
              " 'INR_min',\n",
              " 'Inspired O2 Fraction_min',\n",
              " 'LDL_min',\n",
              " 'PEEP Set_min',\n",
              " 'PTT_min',\n",
              " 'RBCs_min',\n",
              " 'WBCs_min',\n",
              " 'anion gap_min',\n",
              " 'atypical lymphocytes_min',\n",
              " 'bands_min',\n",
              " 'basophils_min',\n",
              " 'central venous pressure_min',\n",
              " 'chloride_min',\n",
              " 'creatinine_min',\n",
              " 'diastolic_min',\n",
              " 'eosinophils_min',\n",
              " 'glucose_min',\n",
              " 'heart rate_min',\n",
              " 'hemocrit_min',\n",
              " 'hemoglobin_min',\n",
              " 'lymphocytes_min',\n",
              " 'monocytes_min',\n",
              " 'neutrophils_min',\n",
              " 'platelets_min',\n",
              " 'polymorphonuclear leukocytes_min',\n",
              " 'potassium_min',\n",
              " 'pulse oximetry_min',\n",
              " 'respiratory rate_min',\n",
              " 'sodium_min',\n",
              " 'systolic_min',\n",
              " 'temperature (F)_min',\n",
              " 'tidal volume_min',\n",
              " 'triglycerides_min',\n",
              " 'troponin_min',\n",
              " 'BUN_max',\n",
              " 'HDL_max',\n",
              " 'INR_max',\n",
              " 'Inspired O2 Fraction_max',\n",
              " 'LDL_max',\n",
              " 'PEEP Set_max',\n",
              " 'PTT_max',\n",
              " 'RBCs_max',\n",
              " 'WBCs_max',\n",
              " 'anion gap_max',\n",
              " 'atypical lymphocytes_max',\n",
              " 'bands_max',\n",
              " 'basophils_max',\n",
              " 'central venous pressure_max',\n",
              " 'chloride_max',\n",
              " 'creatinine_max',\n",
              " 'diastolic_max',\n",
              " 'eosinophils_max',\n",
              " 'glucose_max',\n",
              " 'heart rate_max',\n",
              " 'hemocrit_max',\n",
              " 'hemoglobin_max',\n",
              " 'lymphocytes_max',\n",
              " 'monocytes_max',\n",
              " 'neutrophils_max',\n",
              " 'platelets_max',\n",
              " 'polymorphonuclear leukocytes_max',\n",
              " 'potassium_max',\n",
              " 'pulse oximetry_max',\n",
              " 'respiratory rate_max',\n",
              " 'sodium_max',\n",
              " 'systolic_max',\n",
              " 'temperature (F)_max',\n",
              " 'tidal volume_max',\n",
              " 'triglycerides_max',\n",
              " 'troponin_max',\n",
              " 'HADMID_DAY',\n",
              " 'BLACK',\n",
              " 'ADMITTIME',\n",
              " 'SUBJECT_ID',\n",
              " 'DOB',\n",
              " 'YOB',\n",
              " 'ADMITYEAR',\n",
              " 'AGE',\n",
              " 'M',\n",
              " '0.9% Sodium Chloride',\n",
              " 'SMX-TMP',\n",
              " 'acetominophen',\n",
              " 'albuterol',\n",
              " 'amiodarone',\n",
              " 'amoxicillin',\n",
              " 'ampicillin-sulbactam',\n",
              " 'asprin',\n",
              " 'atenolol',\n",
              " 'atropine',\n",
              " 'calcium gluconate',\n",
              " 'captopril',\n",
              " 'carvedilol',\n",
              " 'cefazolin',\n",
              " 'cefepime',\n",
              " 'ceftriaxone',\n",
              " 'clonazepam',\n",
              " 'clopidogrel',\n",
              " 'dextrose',\n",
              " 'diazepam',\n",
              " 'digoxin(?!.*fab)',\n",
              " 'diltiazem',\n",
              " 'diphenhydramine',\n",
              " 'enoxaparin',\n",
              " 'epoetin',\n",
              " 'fentanyl',\n",
              " 'fentanyl citrate',\n",
              " 'fluconazole',\n",
              " 'fondaparinux',\n",
              " 'furosemide',\n",
              " 'glucagon',\n",
              " 'haloperidol',\n",
              " 'heparin',\n",
              " 'hydralazine',\n",
              " 'hydrochlorothiazide',\n",
              " 'hydromorphone',\n",
              " 'insulin',\n",
              " 'ipratropium',\n",
              " 'labetalol',\n",
              " 'levetiracetam',\n",
              " 'levofloxacin',\n",
              " 'levothyroxine',\n",
              " 'lisinopril',\n",
              " 'magensium sulfate',\n",
              " 'meropenem',\n",
              " 'metoclopramide',\n",
              " 'metoprolol',\n",
              " 'metronidazole',\n",
              " 'midazolam',\n",
              " 'nafcillin',\n",
              " 'neostigmine',\n",
              " 'nitroglycerin',\n",
              " 'nitroprusside',\n",
              " 'norepinephrine',\n",
              " 'ondansetron',\n",
              " 'oxacillin',\n",
              " 'oxycodone',\n",
              " 'pantoprazole',\n",
              " 'penicillin',\n",
              " 'phenylephrine',\n",
              " 'phenytoin',\n",
              " 'phytonadione',\n",
              " 'piperacillin',\n",
              " 'potassium_y',\n",
              " 'prednisone',\n",
              " 'propofol',\n",
              " 'ranitidine',\n",
              " 'statin',\n",
              " 'tacrolimus',\n",
              " 'trazodone',\n",
              " 'vancomycin',\n",
              " 'vasopressin',\n",
              " 'warfarin',\n",
              " 'zolpidem',\n",
              " 'HADM_ID',\n",
              " 'CKD',\n",
              " 'Infection',\n",
              " 'ct_angio']"
            ]
          },
          "metadata": {},
          "execution_count": 10
        }
      ]
    },
    {
      "cell_type": "markdown",
      "source": [
        "## 0. Data prepocessing\n",
        "\n",
        "\n",
        "*   Define outcomes (MI and Sepsis for now)\n",
        "*   Keep patients who stayed in ICU >= 2 days\n",
        "*   Create baseline data (select 1st day per patient)\n",
        "*   Remove those with age, number of days in ICU > 99% quartile\n",
        "*   Feature selection for MI (N = 221)\n",
        "*   Feature selection for Sepsis (N = 225)\n",
        "*   Split train and test data (70% train, 30% test)\n",
        "    *   Ongoing (TBD): need to add a validation set\n",
        "\n",
        "\n",
        "\n",
        "\n"
      ],
      "metadata": {
        "id": "MORhx45PRROE"
      }
    },
    {
      "cell_type": "code",
      "source": [
        "## define outcomes\n",
        "\n",
        "### 1. MI\n",
        "df['MI'] = ((df['troponin'] > 0.4) & (df['CKD'] == 0)).apply(lambda x: int(x))\n",
        "df['MI'] .value_counts()\n",
        "\n",
        "### 2. Sepsis\n",
        "def wbc_crit(x):\n",
        "  if (x > 12 or x < 4) and x != 0:\n",
        "    return 1\n",
        "  else:\n",
        "    return 0\n",
        "\n",
        "def temp_crit(x):\n",
        "  if (x > 100.4 or x < 96.8) and x != 0:\n",
        "    return 1\n",
        "  else:\n",
        "    return 0\n",
        "\n",
        "df['hr_sepsis'] = df['heart rate'].apply(lambda x: 1 if x > 90 else 0)\n",
        "df['respiratory rate_sepsis'] = df['respiratory rate'].apply(lambda x: 1 if x>20 else 0)\n",
        "df['wbc_sepsis'] = df['WBCs'].apply(wbc_crit) \n",
        "df['temperature f_sepsis'] = df['temperature (F)'].apply(temp_crit) \n",
        "df['sepsis_points'] = (df['hr_sepsis'] + df['respiratory rate_sepsis'] \n",
        "                          + df['wbc_sepsis'] + df['temperature f_sepsis'])\n",
        "df['Sepsis'] = ((df['sepsis_points'] >= 2) & (df['Infection'] == 1)).apply(lambda x: int(x))\n",
        "df['Sepsis'].fillna(0)\n",
        "df['Sepsis'].value_counts()\n",
        "df[['Sepsis']].head()"
      ],
      "metadata": {
        "colab": {
          "base_uri": "https://localhost:8080/",
          "height": 484
        },
        "id": "esgA8r4xEYs2",
        "outputId": "8af2ea6e-acad-407c-d1c7-1f88714a5c12"
      },
      "execution_count": 25,
      "outputs": [
        {
          "output_type": "execute_result",
          "data": {
            "text/plain": [
              "0    624300\n",
              "1      4091\n",
              "Name: MI, dtype: int64"
            ]
          },
          "metadata": {},
          "execution_count": 25
        },
        {
          "output_type": "execute_result",
          "data": {
            "text/plain": [
              "0         0\n",
              "1         0\n",
              "2         1\n",
              "3         0\n",
              "4         0\n",
              "         ..\n",
              "628386    0\n",
              "628387    0\n",
              "628388    0\n",
              "628389    0\n",
              "628390    0\n",
              "Name: Sepsis, Length: 628391, dtype: int64"
            ]
          },
          "metadata": {},
          "execution_count": 25
        },
        {
          "output_type": "execute_result",
          "data": {
            "text/plain": [
              "0    536479\n",
              "1     91912\n",
              "Name: Sepsis, dtype: int64"
            ]
          },
          "metadata": {},
          "execution_count": 25
        },
        {
          "output_type": "execute_result",
          "data": {
            "text/plain": [
              "   Sepsis\n",
              "0       0\n",
              "1       0\n",
              "2       1\n",
              "3       0\n",
              "4       0"
            ],
            "text/html": [
              "\n",
              "  <div id=\"df-d0bc4171-f500-408f-8a9e-afc5fcc6d315\">\n",
              "    <div class=\"colab-df-container\">\n",
              "      <div>\n",
              "<style scoped>\n",
              "    .dataframe tbody tr th:only-of-type {\n",
              "        vertical-align: middle;\n",
              "    }\n",
              "\n",
              "    .dataframe tbody tr th {\n",
              "        vertical-align: top;\n",
              "    }\n",
              "\n",
              "    .dataframe thead th {\n",
              "        text-align: right;\n",
              "    }\n",
              "</style>\n",
              "<table border=\"1\" class=\"dataframe\">\n",
              "  <thead>\n",
              "    <tr style=\"text-align: right;\">\n",
              "      <th></th>\n",
              "      <th>Sepsis</th>\n",
              "    </tr>\n",
              "  </thead>\n",
              "  <tbody>\n",
              "    <tr>\n",
              "      <th>0</th>\n",
              "      <td>0</td>\n",
              "    </tr>\n",
              "    <tr>\n",
              "      <th>1</th>\n",
              "      <td>0</td>\n",
              "    </tr>\n",
              "    <tr>\n",
              "      <th>2</th>\n",
              "      <td>1</td>\n",
              "    </tr>\n",
              "    <tr>\n",
              "      <th>3</th>\n",
              "      <td>0</td>\n",
              "    </tr>\n",
              "    <tr>\n",
              "      <th>4</th>\n",
              "      <td>0</td>\n",
              "    </tr>\n",
              "  </tbody>\n",
              "</table>\n",
              "</div>\n",
              "      <button class=\"colab-df-convert\" onclick=\"convertToInteractive('df-d0bc4171-f500-408f-8a9e-afc5fcc6d315')\"\n",
              "              title=\"Convert this dataframe to an interactive table.\"\n",
              "              style=\"display:none;\">\n",
              "        \n",
              "  <svg xmlns=\"http://www.w3.org/2000/svg\" height=\"24px\"viewBox=\"0 0 24 24\"\n",
              "       width=\"24px\">\n",
              "    <path d=\"M0 0h24v24H0V0z\" fill=\"none\"/>\n",
              "    <path d=\"M18.56 5.44l.94 2.06.94-2.06 2.06-.94-2.06-.94-.94-2.06-.94 2.06-2.06.94zm-11 1L8.5 8.5l.94-2.06 2.06-.94-2.06-.94L8.5 2.5l-.94 2.06-2.06.94zm10 10l.94 2.06.94-2.06 2.06-.94-2.06-.94-.94-2.06-.94 2.06-2.06.94z\"/><path d=\"M17.41 7.96l-1.37-1.37c-.4-.4-.92-.59-1.43-.59-.52 0-1.04.2-1.43.59L10.3 9.45l-7.72 7.72c-.78.78-.78 2.05 0 2.83L4 21.41c.39.39.9.59 1.41.59.51 0 1.02-.2 1.41-.59l7.78-7.78 2.81-2.81c.8-.78.8-2.07 0-2.86zM5.41 20L4 18.59l7.72-7.72 1.47 1.35L5.41 20z\"/>\n",
              "  </svg>\n",
              "      </button>\n",
              "      \n",
              "  <style>\n",
              "    .colab-df-container {\n",
              "      display:flex;\n",
              "      flex-wrap:wrap;\n",
              "      gap: 12px;\n",
              "    }\n",
              "\n",
              "    .colab-df-convert {\n",
              "      background-color: #E8F0FE;\n",
              "      border: none;\n",
              "      border-radius: 50%;\n",
              "      cursor: pointer;\n",
              "      display: none;\n",
              "      fill: #1967D2;\n",
              "      height: 32px;\n",
              "      padding: 0 0 0 0;\n",
              "      width: 32px;\n",
              "    }\n",
              "\n",
              "    .colab-df-convert:hover {\n",
              "      background-color: #E2EBFA;\n",
              "      box-shadow: 0px 1px 2px rgba(60, 64, 67, 0.3), 0px 1px 3px 1px rgba(60, 64, 67, 0.15);\n",
              "      fill: #174EA6;\n",
              "    }\n",
              "\n",
              "    [theme=dark] .colab-df-convert {\n",
              "      background-color: #3B4455;\n",
              "      fill: #D2E3FC;\n",
              "    }\n",
              "\n",
              "    [theme=dark] .colab-df-convert:hover {\n",
              "      background-color: #434B5C;\n",
              "      box-shadow: 0px 1px 3px 1px rgba(0, 0, 0, 0.15);\n",
              "      filter: drop-shadow(0px 1px 2px rgba(0, 0, 0, 0.3));\n",
              "      fill: #FFFFFF;\n",
              "    }\n",
              "  </style>\n",
              "\n",
              "      <script>\n",
              "        const buttonEl =\n",
              "          document.querySelector('#df-d0bc4171-f500-408f-8a9e-afc5fcc6d315 button.colab-df-convert');\n",
              "        buttonEl.style.display =\n",
              "          google.colab.kernel.accessAllowed ? 'block' : 'none';\n",
              "\n",
              "        async function convertToInteractive(key) {\n",
              "          const element = document.querySelector('#df-d0bc4171-f500-408f-8a9e-afc5fcc6d315');\n",
              "          const dataTable =\n",
              "            await google.colab.kernel.invokeFunction('convertToInteractive',\n",
              "                                                     [key], {});\n",
              "          if (!dataTable) return;\n",
              "\n",
              "          const docLinkHtml = 'Like what you see? Visit the ' +\n",
              "            '<a target=\"_blank\" href=https://colab.research.google.com/notebooks/data_table.ipynb>data table notebook</a>'\n",
              "            + ' to learn more about interactive tables.';\n",
              "          element.innerHTML = '';\n",
              "          dataTable['output_type'] = 'display_data';\n",
              "          await google.colab.output.renderOutput(dataTable, element);\n",
              "          const docLink = document.createElement('div');\n",
              "          docLink.innerHTML = docLinkHtml;\n",
              "          element.appendChild(docLink);\n",
              "        }\n",
              "      </script>\n",
              "    </div>\n",
              "  </div>\n",
              "  "
            ]
          },
          "metadata": {},
          "execution_count": 25
        }
      ]
    },
    {
      "cell_type": "code",
      "source": [
        "# The data is at the HADM_ID/HADMID_DAY-level\n",
        "assert sum(df.groupby(['HADM_ID', 'HADMID_DAY']).size().values) == df.shape[0]"
      ],
      "metadata": {
        "id": "jqPNYg4PLm7i"
      },
      "execution_count": 12,
      "outputs": []
    },
    {
      "cell_type": "code",
      "source": [
        "day_counts = df.groupby(['HADM_ID']).size().values\n",
        "print(\"Mean and SD day count: (%.2f, %.2f)\" % (day_counts.mean(), day_counts.std()))\n",
        "print(\"Quantiles for day count:\")\n",
        "quantile_cuts = np.array([0.,0.01,0.25,0.5,0.75,0.99,1.0])\n",
        "dict(zip(quantile_cuts, np.quantile(day_counts, quantile_cuts)))"
      ],
      "metadata": {
        "colab": {
          "base_uri": "https://localhost:8080/"
        },
        "id": "JW0z4hh9Verd",
        "outputId": "1e5a9e7a-3b7c-41e0-a389-35873a69845e"
      },
      "execution_count": 13,
      "outputs": [
        {
          "output_type": "stream",
          "name": "stdout",
          "text": [
            "Mean and SD day count: (10.83, 25.92)\n",
            "Quantiles for day count:\n"
          ]
        },
        {
          "output_type": "execute_result",
          "data": {
            "text/plain": [
              "{0.0: 1.0, 0.01: 1.0, 0.25: 4.0, 0.5: 7.0, 0.75: 12.0, 0.99: 64.0, 1.0: 3660.0}"
            ]
          },
          "metadata": {},
          "execution_count": 13
        }
      ]
    },
    {
      "cell_type": "code",
      "source": [
        "from re import M\n",
        "# Number of unique patients\n",
        "n = len(pd.unique(df['HADM_ID']))\n",
        "n\n",
        "# keep patients with at least 2 days\n",
        "df['day_counts'] = df.groupby(['HADM_ID'])[\"HADM_ID\"].transform(\"count\")\n",
        "#df[['HADM_ID','HADMID_DAY','day_counts']].head()\n",
        "\n",
        "m = df['day_counts'].ge(2).groupby(df['HADM_ID']).transform('all')\n",
        "df_s = df[m]\n",
        "#df_s[['HADM_ID','HADMID_DAY','day_counts']].head()\n",
        "df_s.shape\n",
        "\n",
        "# Number of unique patients left\n",
        "n = len(pd.unique(df_s['HADM_ID']))\n",
        "n\n",
        "\n",
        "# select first obs per patient as baseline \n",
        "df_bl = df_s.groupby('HADM_ID').first().reset_index()\n",
        "\n",
        "# check number of days (min shoube be > 1)\n",
        "df_bl[['day_counts']].describe()"
      ],
      "metadata": {
        "id": "bKAO4tadWGFV",
        "colab": {
          "base_uri": "https://localhost:8080/",
          "height": 318
        },
        "outputId": "e639cbde-4ad9-4803-8a0d-6948607c5997"
      },
      "execution_count": 26,
      "outputs": [
        {
          "output_type": "execute_result",
          "data": {
            "text/plain": [
              "58034"
            ]
          },
          "metadata": {},
          "execution_count": 26
        },
        {
          "output_type": "execute_result",
          "data": {
            "text/plain": [
              "(624949, 243)"
            ]
          },
          "metadata": {},
          "execution_count": 26
        },
        {
          "output_type": "execute_result",
          "data": {
            "text/plain": [
              "54592"
            ]
          },
          "metadata": {},
          "execution_count": 26
        },
        {
          "output_type": "execute_result",
          "data": {
            "text/plain": [
              "        day_counts\n",
              "count  54592.00000\n",
              "mean      11.44763\n",
              "std       26.60095\n",
              "min        2.00000\n",
              "25%        5.00000\n",
              "50%        8.00000\n",
              "75%       13.00000\n",
              "max     3660.00000"
            ],
            "text/html": [
              "\n",
              "  <div id=\"df-857e1a3e-7c03-4d0e-bbe4-7bd55b4c3f36\">\n",
              "    <div class=\"colab-df-container\">\n",
              "      <div>\n",
              "<style scoped>\n",
              "    .dataframe tbody tr th:only-of-type {\n",
              "        vertical-align: middle;\n",
              "    }\n",
              "\n",
              "    .dataframe tbody tr th {\n",
              "        vertical-align: top;\n",
              "    }\n",
              "\n",
              "    .dataframe thead th {\n",
              "        text-align: right;\n",
              "    }\n",
              "</style>\n",
              "<table border=\"1\" class=\"dataframe\">\n",
              "  <thead>\n",
              "    <tr style=\"text-align: right;\">\n",
              "      <th></th>\n",
              "      <th>day_counts</th>\n",
              "    </tr>\n",
              "  </thead>\n",
              "  <tbody>\n",
              "    <tr>\n",
              "      <th>count</th>\n",
              "      <td>54592.00000</td>\n",
              "    </tr>\n",
              "    <tr>\n",
              "      <th>mean</th>\n",
              "      <td>11.44763</td>\n",
              "    </tr>\n",
              "    <tr>\n",
              "      <th>std</th>\n",
              "      <td>26.60095</td>\n",
              "    </tr>\n",
              "    <tr>\n",
              "      <th>min</th>\n",
              "      <td>2.00000</td>\n",
              "    </tr>\n",
              "    <tr>\n",
              "      <th>25%</th>\n",
              "      <td>5.00000</td>\n",
              "    </tr>\n",
              "    <tr>\n",
              "      <th>50%</th>\n",
              "      <td>8.00000</td>\n",
              "    </tr>\n",
              "    <tr>\n",
              "      <th>75%</th>\n",
              "      <td>13.00000</td>\n",
              "    </tr>\n",
              "    <tr>\n",
              "      <th>max</th>\n",
              "      <td>3660.00000</td>\n",
              "    </tr>\n",
              "  </tbody>\n",
              "</table>\n",
              "</div>\n",
              "      <button class=\"colab-df-convert\" onclick=\"convertToInteractive('df-857e1a3e-7c03-4d0e-bbe4-7bd55b4c3f36')\"\n",
              "              title=\"Convert this dataframe to an interactive table.\"\n",
              "              style=\"display:none;\">\n",
              "        \n",
              "  <svg xmlns=\"http://www.w3.org/2000/svg\" height=\"24px\"viewBox=\"0 0 24 24\"\n",
              "       width=\"24px\">\n",
              "    <path d=\"M0 0h24v24H0V0z\" fill=\"none\"/>\n",
              "    <path d=\"M18.56 5.44l.94 2.06.94-2.06 2.06-.94-2.06-.94-.94-2.06-.94 2.06-2.06.94zm-11 1L8.5 8.5l.94-2.06 2.06-.94-2.06-.94L8.5 2.5l-.94 2.06-2.06.94zm10 10l.94 2.06.94-2.06 2.06-.94-2.06-.94-.94-2.06-.94 2.06-2.06.94z\"/><path d=\"M17.41 7.96l-1.37-1.37c-.4-.4-.92-.59-1.43-.59-.52 0-1.04.2-1.43.59L10.3 9.45l-7.72 7.72c-.78.78-.78 2.05 0 2.83L4 21.41c.39.39.9.59 1.41.59.51 0 1.02-.2 1.41-.59l7.78-7.78 2.81-2.81c.8-.78.8-2.07 0-2.86zM5.41 20L4 18.59l7.72-7.72 1.47 1.35L5.41 20z\"/>\n",
              "  </svg>\n",
              "      </button>\n",
              "      \n",
              "  <style>\n",
              "    .colab-df-container {\n",
              "      display:flex;\n",
              "      flex-wrap:wrap;\n",
              "      gap: 12px;\n",
              "    }\n",
              "\n",
              "    .colab-df-convert {\n",
              "      background-color: #E8F0FE;\n",
              "      border: none;\n",
              "      border-radius: 50%;\n",
              "      cursor: pointer;\n",
              "      display: none;\n",
              "      fill: #1967D2;\n",
              "      height: 32px;\n",
              "      padding: 0 0 0 0;\n",
              "      width: 32px;\n",
              "    }\n",
              "\n",
              "    .colab-df-convert:hover {\n",
              "      background-color: #E2EBFA;\n",
              "      box-shadow: 0px 1px 2px rgba(60, 64, 67, 0.3), 0px 1px 3px 1px rgba(60, 64, 67, 0.15);\n",
              "      fill: #174EA6;\n",
              "    }\n",
              "\n",
              "    [theme=dark] .colab-df-convert {\n",
              "      background-color: #3B4455;\n",
              "      fill: #D2E3FC;\n",
              "    }\n",
              "\n",
              "    [theme=dark] .colab-df-convert:hover {\n",
              "      background-color: #434B5C;\n",
              "      box-shadow: 0px 1px 3px 1px rgba(0, 0, 0, 0.15);\n",
              "      filter: drop-shadow(0px 1px 2px rgba(0, 0, 0, 0.3));\n",
              "      fill: #FFFFFF;\n",
              "    }\n",
              "  </style>\n",
              "\n",
              "      <script>\n",
              "        const buttonEl =\n",
              "          document.querySelector('#df-857e1a3e-7c03-4d0e-bbe4-7bd55b4c3f36 button.colab-df-convert');\n",
              "        buttonEl.style.display =\n",
              "          google.colab.kernel.accessAllowed ? 'block' : 'none';\n",
              "\n",
              "        async function convertToInteractive(key) {\n",
              "          const element = document.querySelector('#df-857e1a3e-7c03-4d0e-bbe4-7bd55b4c3f36');\n",
              "          const dataTable =\n",
              "            await google.colab.kernel.invokeFunction('convertToInteractive',\n",
              "                                                     [key], {});\n",
              "          if (!dataTable) return;\n",
              "\n",
              "          const docLinkHtml = 'Like what you see? Visit the ' +\n",
              "            '<a target=\"_blank\" href=https://colab.research.google.com/notebooks/data_table.ipynb>data table notebook</a>'\n",
              "            + ' to learn more about interactive tables.';\n",
              "          element.innerHTML = '';\n",
              "          dataTable['output_type'] = 'display_data';\n",
              "          await google.colab.output.renderOutput(dataTable, element);\n",
              "          const docLink = document.createElement('div');\n",
              "          docLink.innerHTML = docLinkHtml;\n",
              "          element.appendChild(docLink);\n",
              "        }\n",
              "      </script>\n",
              "    </div>\n",
              "  </div>\n",
              "  "
            ]
          },
          "metadata": {},
          "execution_count": 26
        }
      ]
    },
    {
      "cell_type": "code",
      "source": [
        "### delete those with age, day_counts >= 99% quartiles\n",
        "df_bl = df_bl[df_bl.AGE < df_bl.AGE.quantile(.99)]\n",
        "df_bl = df_bl[df_bl.day_counts < df_bl.day_counts.quantile(.99)]\n",
        "df_bl[['day_counts']].describe()"
      ],
      "metadata": {
        "colab": {
          "base_uri": "https://localhost:8080/",
          "height": 300
        },
        "id": "80iPSH8fX6aG",
        "outputId": "2418400a-5ca7-47b9-e6c9-97bb2195a315"
      },
      "execution_count": 27,
      "outputs": [
        {
          "output_type": "execute_result",
          "data": {
            "text/plain": [
              "         day_counts\n",
              "count  51543.000000\n",
              "mean      10.492463\n",
              "std        9.435282\n",
              "min        2.000000\n",
              "25%        5.000000\n",
              "50%        7.000000\n",
              "75%       13.000000\n",
              "max       66.000000"
            ],
            "text/html": [
              "\n",
              "  <div id=\"df-691b24e7-3fff-4085-ae60-e201bb788c32\">\n",
              "    <div class=\"colab-df-container\">\n",
              "      <div>\n",
              "<style scoped>\n",
              "    .dataframe tbody tr th:only-of-type {\n",
              "        vertical-align: middle;\n",
              "    }\n",
              "\n",
              "    .dataframe tbody tr th {\n",
              "        vertical-align: top;\n",
              "    }\n",
              "\n",
              "    .dataframe thead th {\n",
              "        text-align: right;\n",
              "    }\n",
              "</style>\n",
              "<table border=\"1\" class=\"dataframe\">\n",
              "  <thead>\n",
              "    <tr style=\"text-align: right;\">\n",
              "      <th></th>\n",
              "      <th>day_counts</th>\n",
              "    </tr>\n",
              "  </thead>\n",
              "  <tbody>\n",
              "    <tr>\n",
              "      <th>count</th>\n",
              "      <td>51543.000000</td>\n",
              "    </tr>\n",
              "    <tr>\n",
              "      <th>mean</th>\n",
              "      <td>10.492463</td>\n",
              "    </tr>\n",
              "    <tr>\n",
              "      <th>std</th>\n",
              "      <td>9.435282</td>\n",
              "    </tr>\n",
              "    <tr>\n",
              "      <th>min</th>\n",
              "      <td>2.000000</td>\n",
              "    </tr>\n",
              "    <tr>\n",
              "      <th>25%</th>\n",
              "      <td>5.000000</td>\n",
              "    </tr>\n",
              "    <tr>\n",
              "      <th>50%</th>\n",
              "      <td>7.000000</td>\n",
              "    </tr>\n",
              "    <tr>\n",
              "      <th>75%</th>\n",
              "      <td>13.000000</td>\n",
              "    </tr>\n",
              "    <tr>\n",
              "      <th>max</th>\n",
              "      <td>66.000000</td>\n",
              "    </tr>\n",
              "  </tbody>\n",
              "</table>\n",
              "</div>\n",
              "      <button class=\"colab-df-convert\" onclick=\"convertToInteractive('df-691b24e7-3fff-4085-ae60-e201bb788c32')\"\n",
              "              title=\"Convert this dataframe to an interactive table.\"\n",
              "              style=\"display:none;\">\n",
              "        \n",
              "  <svg xmlns=\"http://www.w3.org/2000/svg\" height=\"24px\"viewBox=\"0 0 24 24\"\n",
              "       width=\"24px\">\n",
              "    <path d=\"M0 0h24v24H0V0z\" fill=\"none\"/>\n",
              "    <path d=\"M18.56 5.44l.94 2.06.94-2.06 2.06-.94-2.06-.94-.94-2.06-.94 2.06-2.06.94zm-11 1L8.5 8.5l.94-2.06 2.06-.94-2.06-.94L8.5 2.5l-.94 2.06-2.06.94zm10 10l.94 2.06.94-2.06 2.06-.94-2.06-.94-.94-2.06-.94 2.06-2.06.94z\"/><path d=\"M17.41 7.96l-1.37-1.37c-.4-.4-.92-.59-1.43-.59-.52 0-1.04.2-1.43.59L10.3 9.45l-7.72 7.72c-.78.78-.78 2.05 0 2.83L4 21.41c.39.39.9.59 1.41.59.51 0 1.02-.2 1.41-.59l7.78-7.78 2.81-2.81c.8-.78.8-2.07 0-2.86zM5.41 20L4 18.59l7.72-7.72 1.47 1.35L5.41 20z\"/>\n",
              "  </svg>\n",
              "      </button>\n",
              "      \n",
              "  <style>\n",
              "    .colab-df-container {\n",
              "      display:flex;\n",
              "      flex-wrap:wrap;\n",
              "      gap: 12px;\n",
              "    }\n",
              "\n",
              "    .colab-df-convert {\n",
              "      background-color: #E8F0FE;\n",
              "      border: none;\n",
              "      border-radius: 50%;\n",
              "      cursor: pointer;\n",
              "      display: none;\n",
              "      fill: #1967D2;\n",
              "      height: 32px;\n",
              "      padding: 0 0 0 0;\n",
              "      width: 32px;\n",
              "    }\n",
              "\n",
              "    .colab-df-convert:hover {\n",
              "      background-color: #E2EBFA;\n",
              "      box-shadow: 0px 1px 2px rgba(60, 64, 67, 0.3), 0px 1px 3px 1px rgba(60, 64, 67, 0.15);\n",
              "      fill: #174EA6;\n",
              "    }\n",
              "\n",
              "    [theme=dark] .colab-df-convert {\n",
              "      background-color: #3B4455;\n",
              "      fill: #D2E3FC;\n",
              "    }\n",
              "\n",
              "    [theme=dark] .colab-df-convert:hover {\n",
              "      background-color: #434B5C;\n",
              "      box-shadow: 0px 1px 3px 1px rgba(0, 0, 0, 0.15);\n",
              "      filter: drop-shadow(0px 1px 2px rgba(0, 0, 0, 0.3));\n",
              "      fill: #FFFFFF;\n",
              "    }\n",
              "  </style>\n",
              "\n",
              "      <script>\n",
              "        const buttonEl =\n",
              "          document.querySelector('#df-691b24e7-3fff-4085-ae60-e201bb788c32 button.colab-df-convert');\n",
              "        buttonEl.style.display =\n",
              "          google.colab.kernel.accessAllowed ? 'block' : 'none';\n",
              "\n",
              "        async function convertToInteractive(key) {\n",
              "          const element = document.querySelector('#df-691b24e7-3fff-4085-ae60-e201bb788c32');\n",
              "          const dataTable =\n",
              "            await google.colab.kernel.invokeFunction('convertToInteractive',\n",
              "                                                     [key], {});\n",
              "          if (!dataTable) return;\n",
              "\n",
              "          const docLinkHtml = 'Like what you see? Visit the ' +\n",
              "            '<a target=\"_blank\" href=https://colab.research.google.com/notebooks/data_table.ipynb>data table notebook</a>'\n",
              "            + ' to learn more about interactive tables.';\n",
              "          element.innerHTML = '';\n",
              "          dataTable['output_type'] = 'display_data';\n",
              "          await google.colab.output.renderOutput(dataTable, element);\n",
              "          const docLink = document.createElement('div');\n",
              "          docLink.innerHTML = docLinkHtml;\n",
              "          element.appendChild(docLink);\n",
              "        }\n",
              "      </script>\n",
              "    </div>\n",
              "  </div>\n",
              "  "
            ]
          },
          "metadata": {},
          "execution_count": 27
        }
      ]
    },
    {
      "cell_type": "code",
      "source": [
        "## convert admission time format\n",
        "df_bl['ADMITTIME'] = pd.to_datetime(df_bl['ADMITTIME'],errors='coerce')\n",
        "df_bl[['ADMITTIME']].head()\n",
        "\n",
        "df_bl['ADMITTIME'] = df_bl[('ADMITTIME')].values.astype(\"float64\")"
      ],
      "metadata": {
        "colab": {
          "base_uri": "https://localhost:8080/",
          "height": 206
        },
        "id": "fyzPHv1sdSNe",
        "outputId": "305883b3-abec-4bed-a4f8-1ac28d335877"
      },
      "execution_count": 28,
      "outputs": [
        {
          "output_type": "execute_result",
          "data": {
            "text/plain": [
              "            ADMITTIME\n",
              "0 2117-09-11 11:46:00\n",
              "1 2150-04-17 15:34:00\n",
              "2 2108-04-06 15:49:00\n",
              "3 2145-03-31 05:33:00\n",
              "4 2162-05-16 15:56:00"
            ],
            "text/html": [
              "\n",
              "  <div id=\"df-0bb5c6b2-713b-48f7-8222-8945d80e1970\">\n",
              "    <div class=\"colab-df-container\">\n",
              "      <div>\n",
              "<style scoped>\n",
              "    .dataframe tbody tr th:only-of-type {\n",
              "        vertical-align: middle;\n",
              "    }\n",
              "\n",
              "    .dataframe tbody tr th {\n",
              "        vertical-align: top;\n",
              "    }\n",
              "\n",
              "    .dataframe thead th {\n",
              "        text-align: right;\n",
              "    }\n",
              "</style>\n",
              "<table border=\"1\" class=\"dataframe\">\n",
              "  <thead>\n",
              "    <tr style=\"text-align: right;\">\n",
              "      <th></th>\n",
              "      <th>ADMITTIME</th>\n",
              "    </tr>\n",
              "  </thead>\n",
              "  <tbody>\n",
              "    <tr>\n",
              "      <th>0</th>\n",
              "      <td>2117-09-11 11:46:00</td>\n",
              "    </tr>\n",
              "    <tr>\n",
              "      <th>1</th>\n",
              "      <td>2150-04-17 15:34:00</td>\n",
              "    </tr>\n",
              "    <tr>\n",
              "      <th>2</th>\n",
              "      <td>2108-04-06 15:49:00</td>\n",
              "    </tr>\n",
              "    <tr>\n",
              "      <th>3</th>\n",
              "      <td>2145-03-31 05:33:00</td>\n",
              "    </tr>\n",
              "    <tr>\n",
              "      <th>4</th>\n",
              "      <td>2162-05-16 15:56:00</td>\n",
              "    </tr>\n",
              "  </tbody>\n",
              "</table>\n",
              "</div>\n",
              "      <button class=\"colab-df-convert\" onclick=\"convertToInteractive('df-0bb5c6b2-713b-48f7-8222-8945d80e1970')\"\n",
              "              title=\"Convert this dataframe to an interactive table.\"\n",
              "              style=\"display:none;\">\n",
              "        \n",
              "  <svg xmlns=\"http://www.w3.org/2000/svg\" height=\"24px\"viewBox=\"0 0 24 24\"\n",
              "       width=\"24px\">\n",
              "    <path d=\"M0 0h24v24H0V0z\" fill=\"none\"/>\n",
              "    <path d=\"M18.56 5.44l.94 2.06.94-2.06 2.06-.94-2.06-.94-.94-2.06-.94 2.06-2.06.94zm-11 1L8.5 8.5l.94-2.06 2.06-.94-2.06-.94L8.5 2.5l-.94 2.06-2.06.94zm10 10l.94 2.06.94-2.06 2.06-.94-2.06-.94-.94-2.06-.94 2.06-2.06.94z\"/><path d=\"M17.41 7.96l-1.37-1.37c-.4-.4-.92-.59-1.43-.59-.52 0-1.04.2-1.43.59L10.3 9.45l-7.72 7.72c-.78.78-.78 2.05 0 2.83L4 21.41c.39.39.9.59 1.41.59.51 0 1.02-.2 1.41-.59l7.78-7.78 2.81-2.81c.8-.78.8-2.07 0-2.86zM5.41 20L4 18.59l7.72-7.72 1.47 1.35L5.41 20z\"/>\n",
              "  </svg>\n",
              "      </button>\n",
              "      \n",
              "  <style>\n",
              "    .colab-df-container {\n",
              "      display:flex;\n",
              "      flex-wrap:wrap;\n",
              "      gap: 12px;\n",
              "    }\n",
              "\n",
              "    .colab-df-convert {\n",
              "      background-color: #E8F0FE;\n",
              "      border: none;\n",
              "      border-radius: 50%;\n",
              "      cursor: pointer;\n",
              "      display: none;\n",
              "      fill: #1967D2;\n",
              "      height: 32px;\n",
              "      padding: 0 0 0 0;\n",
              "      width: 32px;\n",
              "    }\n",
              "\n",
              "    .colab-df-convert:hover {\n",
              "      background-color: #E2EBFA;\n",
              "      box-shadow: 0px 1px 2px rgba(60, 64, 67, 0.3), 0px 1px 3px 1px rgba(60, 64, 67, 0.15);\n",
              "      fill: #174EA6;\n",
              "    }\n",
              "\n",
              "    [theme=dark] .colab-df-convert {\n",
              "      background-color: #3B4455;\n",
              "      fill: #D2E3FC;\n",
              "    }\n",
              "\n",
              "    [theme=dark] .colab-df-convert:hover {\n",
              "      background-color: #434B5C;\n",
              "      box-shadow: 0px 1px 3px 1px rgba(0, 0, 0, 0.15);\n",
              "      filter: drop-shadow(0px 1px 2px rgba(0, 0, 0, 0.3));\n",
              "      fill: #FFFFFF;\n",
              "    }\n",
              "  </style>\n",
              "\n",
              "      <script>\n",
              "        const buttonEl =\n",
              "          document.querySelector('#df-0bb5c6b2-713b-48f7-8222-8945d80e1970 button.colab-df-convert');\n",
              "        buttonEl.style.display =\n",
              "          google.colab.kernel.accessAllowed ? 'block' : 'none';\n",
              "\n",
              "        async function convertToInteractive(key) {\n",
              "          const element = document.querySelector('#df-0bb5c6b2-713b-48f7-8222-8945d80e1970');\n",
              "          const dataTable =\n",
              "            await google.colab.kernel.invokeFunction('convertToInteractive',\n",
              "                                                     [key], {});\n",
              "          if (!dataTable) return;\n",
              "\n",
              "          const docLinkHtml = 'Like what you see? Visit the ' +\n",
              "            '<a target=\"_blank\" href=https://colab.research.google.com/notebooks/data_table.ipynb>data table notebook</a>'\n",
              "            + ' to learn more about interactive tables.';\n",
              "          element.innerHTML = '';\n",
              "          dataTable['output_type'] = 'display_data';\n",
              "          await google.colab.output.renderOutput(dataTable, element);\n",
              "          const docLink = document.createElement('div');\n",
              "          docLink.innerHTML = docLinkHtml;\n",
              "          element.appendChild(docLink);\n",
              "        }\n",
              "      </script>\n",
              "    </div>\n",
              "  </div>\n",
              "  "
            ]
          },
          "metadata": {},
          "execution_count": 28
        }
      ]
    },
    {
      "cell_type": "code",
      "source": [
        "### split train and test set\n",
        "from sklearn.model_selection import train_test_split\n",
        "\n",
        "train_data, test_data = train_test_split(df_bl, test_size=0.3)\n",
        "train_data.head()\n",
        "train_data.shape"
      ],
      "metadata": {
        "colab": {
          "base_uri": "https://localhost:8080/",
          "height": 352
        },
        "id": "hIJ80JaE2Upw",
        "outputId": "b739d9ac-f546-4570-e6b2-65d3835aa8ff"
      },
      "execution_count": 29,
      "outputs": [
        {
          "output_type": "execute_result",
          "data": {
            "text/plain": [
              "       HADM_ID   BUN   HDL   INR  Inspired O2 Fraction   LDL  PEEP Set    PTT  \\\n",
              "9473    117206  25.0  41.0  15.2                  50.0  81.0       5.0  51.10   \n",
              "35001   164203  35.5  41.0  14.9                  50.0  81.0       5.0  32.40   \n",
              "44612   181631  23.0  41.0  15.3                  50.0  81.0       5.0  32.40   \n",
              "41618   176189  22.0  41.0  13.7                  50.0  81.0       5.0  24.90   \n",
              "18704   134275  23.0  41.0  14.8                  50.0  81.0       5.0  39.25   \n",
              "\n",
              "       RBCs  WBCs  ...  Infection  ct_angio  MI  hr_sepsis  \\\n",
              "9473   3.62  13.2  ...          1         1   0          1   \n",
              "35001  3.82   6.6  ...          1         1   0          1   \n",
              "44612  3.39  10.9  ...          1         1   0          1   \n",
              "41618  3.89  13.5  ...          1         1   0          0   \n",
              "18704  3.39  14.2  ...          1         1   0          0   \n",
              "\n",
              "       respiratory rate_sepsis  wbc_sepsis  temperature f_sepsis  \\\n",
              "9473                         0           1                     0   \n",
              "35001                        1           0                     0   \n",
              "44612                        1           0                     1   \n",
              "41618                        0           1                     0   \n",
              "18704                        1           1                     0   \n",
              "\n",
              "       sepsis_points  Sepsis  day_counts  \n",
              "9473               2       1           9  \n",
              "35001              2       1           9  \n",
              "44612              3       1          10  \n",
              "41618              1       0           6  \n",
              "18704              2       1           5  \n",
              "\n",
              "[5 rows x 243 columns]"
            ],
            "text/html": [
              "\n",
              "  <div id=\"df-ad73a95f-07b7-4710-a765-1c63a9a355da\">\n",
              "    <div class=\"colab-df-container\">\n",
              "      <div>\n",
              "<style scoped>\n",
              "    .dataframe tbody tr th:only-of-type {\n",
              "        vertical-align: middle;\n",
              "    }\n",
              "\n",
              "    .dataframe tbody tr th {\n",
              "        vertical-align: top;\n",
              "    }\n",
              "\n",
              "    .dataframe thead th {\n",
              "        text-align: right;\n",
              "    }\n",
              "</style>\n",
              "<table border=\"1\" class=\"dataframe\">\n",
              "  <thead>\n",
              "    <tr style=\"text-align: right;\">\n",
              "      <th></th>\n",
              "      <th>HADM_ID</th>\n",
              "      <th>BUN</th>\n",
              "      <th>HDL</th>\n",
              "      <th>INR</th>\n",
              "      <th>Inspired O2 Fraction</th>\n",
              "      <th>LDL</th>\n",
              "      <th>PEEP Set</th>\n",
              "      <th>PTT</th>\n",
              "      <th>RBCs</th>\n",
              "      <th>WBCs</th>\n",
              "      <th>...</th>\n",
              "      <th>Infection</th>\n",
              "      <th>ct_angio</th>\n",
              "      <th>MI</th>\n",
              "      <th>hr_sepsis</th>\n",
              "      <th>respiratory rate_sepsis</th>\n",
              "      <th>wbc_sepsis</th>\n",
              "      <th>temperature f_sepsis</th>\n",
              "      <th>sepsis_points</th>\n",
              "      <th>Sepsis</th>\n",
              "      <th>day_counts</th>\n",
              "    </tr>\n",
              "  </thead>\n",
              "  <tbody>\n",
              "    <tr>\n",
              "      <th>9473</th>\n",
              "      <td>117206</td>\n",
              "      <td>25.0</td>\n",
              "      <td>41.0</td>\n",
              "      <td>15.2</td>\n",
              "      <td>50.0</td>\n",
              "      <td>81.0</td>\n",
              "      <td>5.0</td>\n",
              "      <td>51.10</td>\n",
              "      <td>3.62</td>\n",
              "      <td>13.2</td>\n",
              "      <td>...</td>\n",
              "      <td>1</td>\n",
              "      <td>1</td>\n",
              "      <td>0</td>\n",
              "      <td>1</td>\n",
              "      <td>0</td>\n",
              "      <td>1</td>\n",
              "      <td>0</td>\n",
              "      <td>2</td>\n",
              "      <td>1</td>\n",
              "      <td>9</td>\n",
              "    </tr>\n",
              "    <tr>\n",
              "      <th>35001</th>\n",
              "      <td>164203</td>\n",
              "      <td>35.5</td>\n",
              "      <td>41.0</td>\n",
              "      <td>14.9</td>\n",
              "      <td>50.0</td>\n",
              "      <td>81.0</td>\n",
              "      <td>5.0</td>\n",
              "      <td>32.40</td>\n",
              "      <td>3.82</td>\n",
              "      <td>6.6</td>\n",
              "      <td>...</td>\n",
              "      <td>1</td>\n",
              "      <td>1</td>\n",
              "      <td>0</td>\n",
              "      <td>1</td>\n",
              "      <td>1</td>\n",
              "      <td>0</td>\n",
              "      <td>0</td>\n",
              "      <td>2</td>\n",
              "      <td>1</td>\n",
              "      <td>9</td>\n",
              "    </tr>\n",
              "    <tr>\n",
              "      <th>44612</th>\n",
              "      <td>181631</td>\n",
              "      <td>23.0</td>\n",
              "      <td>41.0</td>\n",
              "      <td>15.3</td>\n",
              "      <td>50.0</td>\n",
              "      <td>81.0</td>\n",
              "      <td>5.0</td>\n",
              "      <td>32.40</td>\n",
              "      <td>3.39</td>\n",
              "      <td>10.9</td>\n",
              "      <td>...</td>\n",
              "      <td>1</td>\n",
              "      <td>1</td>\n",
              "      <td>0</td>\n",
              "      <td>1</td>\n",
              "      <td>1</td>\n",
              "      <td>0</td>\n",
              "      <td>1</td>\n",
              "      <td>3</td>\n",
              "      <td>1</td>\n",
              "      <td>10</td>\n",
              "    </tr>\n",
              "    <tr>\n",
              "      <th>41618</th>\n",
              "      <td>176189</td>\n",
              "      <td>22.0</td>\n",
              "      <td>41.0</td>\n",
              "      <td>13.7</td>\n",
              "      <td>50.0</td>\n",
              "      <td>81.0</td>\n",
              "      <td>5.0</td>\n",
              "      <td>24.90</td>\n",
              "      <td>3.89</td>\n",
              "      <td>13.5</td>\n",
              "      <td>...</td>\n",
              "      <td>1</td>\n",
              "      <td>1</td>\n",
              "      <td>0</td>\n",
              "      <td>0</td>\n",
              "      <td>0</td>\n",
              "      <td>1</td>\n",
              "      <td>0</td>\n",
              "      <td>1</td>\n",
              "      <td>0</td>\n",
              "      <td>6</td>\n",
              "    </tr>\n",
              "    <tr>\n",
              "      <th>18704</th>\n",
              "      <td>134275</td>\n",
              "      <td>23.0</td>\n",
              "      <td>41.0</td>\n",
              "      <td>14.8</td>\n",
              "      <td>50.0</td>\n",
              "      <td>81.0</td>\n",
              "      <td>5.0</td>\n",
              "      <td>39.25</td>\n",
              "      <td>3.39</td>\n",
              "      <td>14.2</td>\n",
              "      <td>...</td>\n",
              "      <td>1</td>\n",
              "      <td>1</td>\n",
              "      <td>0</td>\n",
              "      <td>0</td>\n",
              "      <td>1</td>\n",
              "      <td>1</td>\n",
              "      <td>0</td>\n",
              "      <td>2</td>\n",
              "      <td>1</td>\n",
              "      <td>5</td>\n",
              "    </tr>\n",
              "  </tbody>\n",
              "</table>\n",
              "<p>5 rows × 243 columns</p>\n",
              "</div>\n",
              "      <button class=\"colab-df-convert\" onclick=\"convertToInteractive('df-ad73a95f-07b7-4710-a765-1c63a9a355da')\"\n",
              "              title=\"Convert this dataframe to an interactive table.\"\n",
              "              style=\"display:none;\">\n",
              "        \n",
              "  <svg xmlns=\"http://www.w3.org/2000/svg\" height=\"24px\"viewBox=\"0 0 24 24\"\n",
              "       width=\"24px\">\n",
              "    <path d=\"M0 0h24v24H0V0z\" fill=\"none\"/>\n",
              "    <path d=\"M18.56 5.44l.94 2.06.94-2.06 2.06-.94-2.06-.94-.94-2.06-.94 2.06-2.06.94zm-11 1L8.5 8.5l.94-2.06 2.06-.94-2.06-.94L8.5 2.5l-.94 2.06-2.06.94zm10 10l.94 2.06.94-2.06 2.06-.94-2.06-.94-.94-2.06-.94 2.06-2.06.94z\"/><path d=\"M17.41 7.96l-1.37-1.37c-.4-.4-.92-.59-1.43-.59-.52 0-1.04.2-1.43.59L10.3 9.45l-7.72 7.72c-.78.78-.78 2.05 0 2.83L4 21.41c.39.39.9.59 1.41.59.51 0 1.02-.2 1.41-.59l7.78-7.78 2.81-2.81c.8-.78.8-2.07 0-2.86zM5.41 20L4 18.59l7.72-7.72 1.47 1.35L5.41 20z\"/>\n",
              "  </svg>\n",
              "      </button>\n",
              "      \n",
              "  <style>\n",
              "    .colab-df-container {\n",
              "      display:flex;\n",
              "      flex-wrap:wrap;\n",
              "      gap: 12px;\n",
              "    }\n",
              "\n",
              "    .colab-df-convert {\n",
              "      background-color: #E8F0FE;\n",
              "      border: none;\n",
              "      border-radius: 50%;\n",
              "      cursor: pointer;\n",
              "      display: none;\n",
              "      fill: #1967D2;\n",
              "      height: 32px;\n",
              "      padding: 0 0 0 0;\n",
              "      width: 32px;\n",
              "    }\n",
              "\n",
              "    .colab-df-convert:hover {\n",
              "      background-color: #E2EBFA;\n",
              "      box-shadow: 0px 1px 2px rgba(60, 64, 67, 0.3), 0px 1px 3px 1px rgba(60, 64, 67, 0.15);\n",
              "      fill: #174EA6;\n",
              "    }\n",
              "\n",
              "    [theme=dark] .colab-df-convert {\n",
              "      background-color: #3B4455;\n",
              "      fill: #D2E3FC;\n",
              "    }\n",
              "\n",
              "    [theme=dark] .colab-df-convert:hover {\n",
              "      background-color: #434B5C;\n",
              "      box-shadow: 0px 1px 3px 1px rgba(0, 0, 0, 0.15);\n",
              "      filter: drop-shadow(0px 1px 2px rgba(0, 0, 0, 0.3));\n",
              "      fill: #FFFFFF;\n",
              "    }\n",
              "  </style>\n",
              "\n",
              "      <script>\n",
              "        const buttonEl =\n",
              "          document.querySelector('#df-ad73a95f-07b7-4710-a765-1c63a9a355da button.colab-df-convert');\n",
              "        buttonEl.style.display =\n",
              "          google.colab.kernel.accessAllowed ? 'block' : 'none';\n",
              "\n",
              "        async function convertToInteractive(key) {\n",
              "          const element = document.querySelector('#df-ad73a95f-07b7-4710-a765-1c63a9a355da');\n",
              "          const dataTable =\n",
              "            await google.colab.kernel.invokeFunction('convertToInteractive',\n",
              "                                                     [key], {});\n",
              "          if (!dataTable) return;\n",
              "\n",
              "          const docLinkHtml = 'Like what you see? Visit the ' +\n",
              "            '<a target=\"_blank\" href=https://colab.research.google.com/notebooks/data_table.ipynb>data table notebook</a>'\n",
              "            + ' to learn more about interactive tables.';\n",
              "          element.innerHTML = '';\n",
              "          dataTable['output_type'] = 'display_data';\n",
              "          await google.colab.output.renderOutput(dataTable, element);\n",
              "          const docLink = document.createElement('div');\n",
              "          docLink.innerHTML = docLinkHtml;\n",
              "          element.appendChild(docLink);\n",
              "        }\n",
              "      </script>\n",
              "    </div>\n",
              "  </div>\n",
              "  "
            ]
          },
          "metadata": {},
          "execution_count": 29
        },
        {
          "output_type": "execute_result",
          "data": {
            "text/plain": [
              "(36080, 243)"
            ]
          },
          "metadata": {},
          "execution_count": 29
        }
      ]
    },
    {
      "cell_type": "code",
      "source": [
        "## feature selection\n",
        "\n",
        "### 1. feature for MI (221)\n",
        "drop = ['ct_angio', 'troponin', 'troponin_std', 'troponin_min', 'troponin_max', 'Infection','CKD','hr_sepsis',\n",
        "        'respiratory rate_sepsis','wbc_sepsis','temperature f_sepsis','sepsis_points','vancomycin',\n",
        "        'HADM_ID', 'SUBJECT_ID','YOB','ADMITYEAR','DOB','Sepsis','day_counts','HADMID_DAY']\n",
        "tmp =df_bl.drop(drop, axis=1)\n",
        "MI_features = list(tmp.columns.values)\n",
        "MI_features.remove('MI')\n",
        "X_MI_train = train_data[MI_features]\n",
        "y_MI_train = train_data['MI']\n",
        "X_MI_val = test_data[MI_features]\n",
        "y_MI_val = test_data['MI']\n",
        "\n",
        "X_MI_train.shape\n",
        "y_MI_train.shape\n",
        "\n",
        "X_MI_val.shape\n",
        "y_MI_val.shape\n",
        "\n",
        "### 2. feature for sepsis (225)\n",
        "drop = ['ct_angio', 'Infection','CKD','hr_sepsis',\n",
        "        'respiratory rate_sepsis','wbc_sepsis','temperature f_sepsis','sepsis_points','vancomycin',\n",
        "        'HADM_ID', 'SUBJECT_ID','YOB','ADMITYEAR','DOB','MI','day_counts','HADMID_DAY']\n",
        "tmp =df_bl.drop(drop, axis=1)\n",
        "sepsis_features = list(tmp.columns.values)\n",
        "sepsis_features.remove('Sepsis')\n",
        "X_sepsis_train = train_data[sepsis_features]\n",
        "y_sepsis_train = train_data['Sepsis']\n",
        "X_sepsis_val = test_data[sepsis_features]\n",
        "y_sepsis_val = test_data['Sepsis']\n",
        "\n",
        "X_sepsis_train.shape\n",
        "y_sepsis_train.shape\n",
        "\n",
        "X_sepsis_val.shape\n",
        "y_sepsis_val.shape"
      ],
      "metadata": {
        "colab": {
          "base_uri": "https://localhost:8080/"
        },
        "id": "CPy71fHFyXmY",
        "outputId": "c58e8552-9889-4dcb-daad-fc0708fb432b"
      },
      "execution_count": 30,
      "outputs": [
        {
          "output_type": "execute_result",
          "data": {
            "text/plain": [
              "(36080, 221)"
            ]
          },
          "metadata": {},
          "execution_count": 30
        },
        {
          "output_type": "execute_result",
          "data": {
            "text/plain": [
              "(36080,)"
            ]
          },
          "metadata": {},
          "execution_count": 30
        },
        {
          "output_type": "execute_result",
          "data": {
            "text/plain": [
              "(15463, 221)"
            ]
          },
          "metadata": {},
          "execution_count": 30
        },
        {
          "output_type": "execute_result",
          "data": {
            "text/plain": [
              "(15463,)"
            ]
          },
          "metadata": {},
          "execution_count": 30
        },
        {
          "output_type": "execute_result",
          "data": {
            "text/plain": [
              "(36080, 225)"
            ]
          },
          "metadata": {},
          "execution_count": 30
        },
        {
          "output_type": "execute_result",
          "data": {
            "text/plain": [
              "(36080,)"
            ]
          },
          "metadata": {},
          "execution_count": 30
        },
        {
          "output_type": "execute_result",
          "data": {
            "text/plain": [
              "(15463, 225)"
            ]
          },
          "metadata": {},
          "execution_count": 30
        },
        {
          "output_type": "execute_result",
          "data": {
            "text/plain": [
              "(15463,)"
            ]
          },
          "metadata": {},
          "execution_count": 30
        }
      ]
    },
    {
      "cell_type": "code",
      "source": [
        "X_MI_train.columns.tolist()"
      ],
      "metadata": {
        "colab": {
          "base_uri": "https://localhost:8080/"
        },
        "id": "bqzzu9E3P48i",
        "outputId": "3ec050fa-5182-47ec-f814-5865b438a40f"
      },
      "execution_count": 19,
      "outputs": [
        {
          "output_type": "execute_result",
          "data": {
            "text/plain": [
              "['BUN',\n",
              " 'HDL',\n",
              " 'INR',\n",
              " 'Inspired O2 Fraction',\n",
              " 'LDL',\n",
              " 'PEEP Set',\n",
              " 'PTT',\n",
              " 'RBCs',\n",
              " 'WBCs',\n",
              " 'anion gap',\n",
              " 'atypical lymphocytes',\n",
              " 'bands',\n",
              " 'basophils',\n",
              " 'blood culture',\n",
              " 'central venous pressure',\n",
              " 'chloride',\n",
              " 'creatinine',\n",
              " 'daily weight',\n",
              " 'diabetes',\n",
              " 'diastolic',\n",
              " 'eosinophils',\n",
              " 'glucose',\n",
              " 'heart rate',\n",
              " 'hemocrit',\n",
              " 'hemoglobin',\n",
              " 'lymphocytes',\n",
              " 'monocytes',\n",
              " 'neutrophils',\n",
              " 'platelets',\n",
              " 'polymorphonuclear leukocytes',\n",
              " 'potassium_x',\n",
              " 'pulse oximetry',\n",
              " 'respiratory rate',\n",
              " 'sodium',\n",
              " 'systolic',\n",
              " 'temperature (F)',\n",
              " 'tidal volume',\n",
              " 'tobacco',\n",
              " 'triglycerides',\n",
              " 'BUN_std',\n",
              " 'HDL_std',\n",
              " 'INR_std',\n",
              " 'Inspired O2 Fraction_std',\n",
              " 'LDL_std',\n",
              " 'PEEP Set_std',\n",
              " 'PTT_std',\n",
              " 'RBCs_std',\n",
              " 'WBCs_std',\n",
              " 'anion gap_std',\n",
              " 'atypical lymphocytes_std',\n",
              " 'bands_std',\n",
              " 'basophils_std',\n",
              " 'central venous pressure_std',\n",
              " 'chloride_std',\n",
              " 'creatinine_std',\n",
              " 'diastolic_std',\n",
              " 'eosinophils_std',\n",
              " 'glucose_std',\n",
              " 'heart rate_std',\n",
              " 'hemocrit_std',\n",
              " 'hemoglobin_std',\n",
              " 'lymphocytes_std',\n",
              " 'monocytes_std',\n",
              " 'neutrophils_std',\n",
              " 'platelets_std',\n",
              " 'polymorphonuclear leukocytes_std',\n",
              " 'potassium_std',\n",
              " 'pulse oximetry_std',\n",
              " 'respiratory rate_std',\n",
              " 'sodium_std',\n",
              " 'systolic_std',\n",
              " 'temperature (F)_std',\n",
              " 'tidal volume_std',\n",
              " 'triglycerides_std',\n",
              " 'BUN_min',\n",
              " 'HDL_min',\n",
              " 'INR_min',\n",
              " 'Inspired O2 Fraction_min',\n",
              " 'LDL_min',\n",
              " 'PEEP Set_min',\n",
              " 'PTT_min',\n",
              " 'RBCs_min',\n",
              " 'WBCs_min',\n",
              " 'anion gap_min',\n",
              " 'atypical lymphocytes_min',\n",
              " 'bands_min',\n",
              " 'basophils_min',\n",
              " 'central venous pressure_min',\n",
              " 'chloride_min',\n",
              " 'creatinine_min',\n",
              " 'diastolic_min',\n",
              " 'eosinophils_min',\n",
              " 'glucose_min',\n",
              " 'heart rate_min',\n",
              " 'hemocrit_min',\n",
              " 'hemoglobin_min',\n",
              " 'lymphocytes_min',\n",
              " 'monocytes_min',\n",
              " 'neutrophils_min',\n",
              " 'platelets_min',\n",
              " 'polymorphonuclear leukocytes_min',\n",
              " 'potassium_min',\n",
              " 'pulse oximetry_min',\n",
              " 'respiratory rate_min',\n",
              " 'sodium_min',\n",
              " 'systolic_min',\n",
              " 'temperature (F)_min',\n",
              " 'tidal volume_min',\n",
              " 'triglycerides_min',\n",
              " 'BUN_max',\n",
              " 'HDL_max',\n",
              " 'INR_max',\n",
              " 'Inspired O2 Fraction_max',\n",
              " 'LDL_max',\n",
              " 'PEEP Set_max',\n",
              " 'PTT_max',\n",
              " 'RBCs_max',\n",
              " 'WBCs_max',\n",
              " 'anion gap_max',\n",
              " 'atypical lymphocytes_max',\n",
              " 'bands_max',\n",
              " 'basophils_max',\n",
              " 'central venous pressure_max',\n",
              " 'chloride_max',\n",
              " 'creatinine_max',\n",
              " 'diastolic_max',\n",
              " 'eosinophils_max',\n",
              " 'glucose_max',\n",
              " 'heart rate_max',\n",
              " 'hemocrit_max',\n",
              " 'hemoglobin_max',\n",
              " 'lymphocytes_max',\n",
              " 'monocytes_max',\n",
              " 'neutrophils_max',\n",
              " 'platelets_max',\n",
              " 'polymorphonuclear leukocytes_max',\n",
              " 'potassium_max',\n",
              " 'pulse oximetry_max',\n",
              " 'respiratory rate_max',\n",
              " 'sodium_max',\n",
              " 'systolic_max',\n",
              " 'temperature (F)_max',\n",
              " 'tidal volume_max',\n",
              " 'triglycerides_max',\n",
              " 'BLACK',\n",
              " 'ADMITTIME',\n",
              " 'AGE',\n",
              " 'M',\n",
              " '0.9% Sodium Chloride',\n",
              " 'SMX-TMP',\n",
              " 'acetominophen',\n",
              " 'albuterol',\n",
              " 'amiodarone',\n",
              " 'amoxicillin',\n",
              " 'ampicillin-sulbactam',\n",
              " 'asprin',\n",
              " 'atenolol',\n",
              " 'atropine',\n",
              " 'calcium gluconate',\n",
              " 'captopril',\n",
              " 'carvedilol',\n",
              " 'cefazolin',\n",
              " 'cefepime',\n",
              " 'ceftriaxone',\n",
              " 'clonazepam',\n",
              " 'clopidogrel',\n",
              " 'dextrose',\n",
              " 'diazepam',\n",
              " 'digoxin(?!.*fab)',\n",
              " 'diltiazem',\n",
              " 'diphenhydramine',\n",
              " 'enoxaparin',\n",
              " 'epoetin',\n",
              " 'fentanyl',\n",
              " 'fentanyl citrate',\n",
              " 'fluconazole',\n",
              " 'fondaparinux',\n",
              " 'furosemide',\n",
              " 'glucagon',\n",
              " 'haloperidol',\n",
              " 'heparin',\n",
              " 'hydralazine',\n",
              " 'hydrochlorothiazide',\n",
              " 'hydromorphone',\n",
              " 'insulin',\n",
              " 'ipratropium',\n",
              " 'labetalol',\n",
              " 'levetiracetam',\n",
              " 'levofloxacin',\n",
              " 'levothyroxine',\n",
              " 'lisinopril',\n",
              " 'magensium sulfate',\n",
              " 'meropenem',\n",
              " 'metoclopramide',\n",
              " 'metoprolol',\n",
              " 'metronidazole',\n",
              " 'midazolam',\n",
              " 'nafcillin',\n",
              " 'neostigmine',\n",
              " 'nitroglycerin',\n",
              " 'nitroprusside',\n",
              " 'norepinephrine',\n",
              " 'ondansetron',\n",
              " 'oxacillin',\n",
              " 'oxycodone',\n",
              " 'pantoprazole',\n",
              " 'penicillin',\n",
              " 'phenylephrine',\n",
              " 'phenytoin',\n",
              " 'phytonadione',\n",
              " 'piperacillin',\n",
              " 'potassium_y',\n",
              " 'prednisone',\n",
              " 'propofol',\n",
              " 'ranitidine',\n",
              " 'statin',\n",
              " 'tacrolimus',\n",
              " 'trazodone',\n",
              " 'vasopressin',\n",
              " 'warfarin',\n",
              " 'zolpidem']"
            ]
          },
          "metadata": {},
          "execution_count": 19
        }
      ]
    },
    {
      "cell_type": "markdown",
      "source": [
        "## 1. Data summary"
      ],
      "metadata": {
        "id": "sKz4xRtPRHkZ"
      }
    },
    {
      "cell_type": "markdown",
      "source": [
        "### 1.1 Number of patients in total; number of patients in train and test"
      ],
      "metadata": {
        "id": "mHEsJy5hTBmO"
      }
    },
    {
      "cell_type": "code",
      "source": [
        "print(df_bl.shape[0]) ## total number of patients\n",
        "\n",
        "print(train_data.shape[0]) ## total number of patients in train set\n",
        "\n",
        "print(test_data.shape[0])  ## total number of patients in test set"
      ],
      "metadata": {
        "colab": {
          "base_uri": "https://localhost:8080/"
        },
        "id": "aX7NIvcASvxC",
        "outputId": "e8632b3f-d0c0-4973-fd9f-0b14647cfccf"
      },
      "execution_count": 31,
      "outputs": [
        {
          "output_type": "stream",
          "name": "stdout",
          "text": [
            "51543\n",
            "36080\n",
            "15463\n"
          ]
        }
      ]
    },
    {
      "cell_type": "markdown",
      "source": [
        "### 1.2 Number/percentages of outcomes"
      ],
      "metadata": {
        "id": "2EqXYXdVUX-H"
      }
    },
    {
      "cell_type": "code",
      "source": [
        "### 1. MI\n",
        "df_bl['MI'].value_counts()\n",
        "df_bl['MI'].value_counts(normalize = True)*100\n",
        "\n",
        "train_data['MI'].value_counts()\n",
        "train_data['MI'].value_counts(normalize = True)*100\n",
        "\n",
        "test_data['MI'].value_counts()\n",
        "test_data['MI'].value_counts(normalize = True)*100\n",
        "\n",
        "### 2. Sepsis\n",
        "df_bl['Sepsis'].value_counts()\n",
        "df_bl['Sepsis'].value_counts(normalize = True)*100\n",
        "\n",
        "train_data['Sepsis'].value_counts()\n",
        "train_data['Sepsis'].value_counts(normalize = True)*100\n",
        "\n",
        "test_data['Sepsis'].value_counts()\n",
        "test_data['Sepsis'].value_counts(normalize = True)*100\n",
        "\n"
      ],
      "metadata": {
        "colab": {
          "base_uri": "https://localhost:8080/"
        },
        "id": "gJViHMdqUcgU",
        "outputId": "f3c28a63-b4a2-4dee-aad1-483e2d29e5d9"
      },
      "execution_count": 32,
      "outputs": [
        {
          "output_type": "execute_result",
          "data": {
            "text/plain": [
              "0    50434\n",
              "1     1109\n",
              "Name: MI, dtype: int64"
            ]
          },
          "metadata": {},
          "execution_count": 32
        },
        {
          "output_type": "execute_result",
          "data": {
            "text/plain": [
              "0    97.848398\n",
              "1     2.151602\n",
              "Name: MI, dtype: float64"
            ]
          },
          "metadata": {},
          "execution_count": 32
        },
        {
          "output_type": "execute_result",
          "data": {
            "text/plain": [
              "0    35275\n",
              "1      805\n",
              "Name: MI, dtype: int64"
            ]
          },
          "metadata": {},
          "execution_count": 32
        },
        {
          "output_type": "execute_result",
          "data": {
            "text/plain": [
              "0    97.768847\n",
              "1     2.231153\n",
              "Name: MI, dtype: float64"
            ]
          },
          "metadata": {},
          "execution_count": 32
        },
        {
          "output_type": "execute_result",
          "data": {
            "text/plain": [
              "0    15159\n",
              "1      304\n",
              "Name: MI, dtype: int64"
            ]
          },
          "metadata": {},
          "execution_count": 32
        },
        {
          "output_type": "execute_result",
          "data": {
            "text/plain": [
              "0    98.034017\n",
              "1     1.965983\n",
              "Name: MI, dtype: float64"
            ]
          },
          "metadata": {},
          "execution_count": 32
        },
        {
          "output_type": "execute_result",
          "data": {
            "text/plain": [
              "0    38350\n",
              "1    13193\n",
              "Name: Sepsis, dtype: int64"
            ]
          },
          "metadata": {},
          "execution_count": 32
        },
        {
          "output_type": "execute_result",
          "data": {
            "text/plain": [
              "0    74.403896\n",
              "1    25.596104\n",
              "Name: Sepsis, dtype: float64"
            ]
          },
          "metadata": {},
          "execution_count": 32
        },
        {
          "output_type": "execute_result",
          "data": {
            "text/plain": [
              "0    26825\n",
              "1     9255\n",
              "Name: Sepsis, dtype: int64"
            ]
          },
          "metadata": {},
          "execution_count": 32
        },
        {
          "output_type": "execute_result",
          "data": {
            "text/plain": [
              "0    74.34867\n",
              "1    25.65133\n",
              "Name: Sepsis, dtype: float64"
            ]
          },
          "metadata": {},
          "execution_count": 32
        },
        {
          "output_type": "execute_result",
          "data": {
            "text/plain": [
              "0    11525\n",
              "1     3938\n",
              "Name: Sepsis, dtype: int64"
            ]
          },
          "metadata": {},
          "execution_count": 32
        },
        {
          "output_type": "execute_result",
          "data": {
            "text/plain": [
              "0    74.532756\n",
              "1    25.467244\n",
              "Name: Sepsis, dtype: float64"
            ]
          },
          "metadata": {},
          "execution_count": 32
        }
      ]
    },
    {
      "cell_type": "markdown",
      "source": [
        "### 1.3 Average age, percentage of gender and race"
      ],
      "metadata": {
        "id": "rRekNifvT26Z"
      }
    },
    {
      "cell_type": "code",
      "source": [
        "df_bl['AGE'].describe()\n",
        "df_bl['M'].value_counts()\n",
        "df_bl['M'].value_counts(normalize=True) * 100\n",
        "df_bl['BLACK'].value_counts()\n",
        "df_bl['BLACK'].value_counts(normalize=True) * 100\n",
        "\n",
        "train_data['AGE'].describe()\n",
        "train_data['M'].value_counts() \n",
        "train_data['M'].value_counts(normalize=True) * 100\n",
        "train_data['BLACK'].value_counts()\n",
        "train_data['BLACK'].value_counts(normalize=True) * 100\n",
        "\n",
        "test_data['AGE'].describe()\n",
        "test_data['M'].value_counts() \n",
        "test_data['M'].value_counts(normalize=True) * 100\n",
        "test_data['BLACK'].value_counts()\n",
        "test_data['BLACK'].value_counts(normalize=True) * 100"
      ],
      "metadata": {
        "colab": {
          "base_uri": "https://localhost:8080/"
        },
        "id": "xmWKqSUiUBaH",
        "outputId": "4b2bfbb1-b90d-400c-ff18-ac4f978a01b4"
      },
      "execution_count": 37,
      "outputs": [
        {
          "output_type": "execute_result",
          "data": {
            "text/plain": [
              "count    51543.000000\n",
              "mean        55.488175\n",
              "std         25.256770\n",
              "min          0.000000\n",
              "25%         45.000000\n",
              "50%         62.000000\n",
              "75%         75.000000\n",
              "max         89.000000\n",
              "Name: AGE, dtype: float64"
            ]
          },
          "metadata": {},
          "execution_count": 37
        },
        {
          "output_type": "execute_result",
          "data": {
            "text/plain": [
              "1.0    28691\n",
              "0.0    22852\n",
              "Name: M, dtype: int64"
            ]
          },
          "metadata": {},
          "execution_count": 37
        },
        {
          "output_type": "execute_result",
          "data": {
            "text/plain": [
              "1.0    55.664203\n",
              "0.0    44.335797\n",
              "Name: M, dtype: float64"
            ]
          },
          "metadata": {},
          "execution_count": 37
        },
        {
          "output_type": "execute_result",
          "data": {
            "text/plain": [
              "0.0    46532\n",
              "1.0     5011\n",
              "Name: BLACK, dtype: int64"
            ]
          },
          "metadata": {},
          "execution_count": 37
        },
        {
          "output_type": "execute_result",
          "data": {
            "text/plain": [
              "0.0    90.27802\n",
              "1.0     9.72198\n",
              "Name: BLACK, dtype: float64"
            ]
          },
          "metadata": {},
          "execution_count": 37
        },
        {
          "output_type": "execute_result",
          "data": {
            "text/plain": [
              "count    36080.000000\n",
              "mean        55.525305\n",
              "std         25.257831\n",
              "min          0.000000\n",
              "25%         45.000000\n",
              "50%         62.000000\n",
              "75%         75.000000\n",
              "max         89.000000\n",
              "Name: AGE, dtype: float64"
            ]
          },
          "metadata": {},
          "execution_count": 37
        },
        {
          "output_type": "execute_result",
          "data": {
            "text/plain": [
              "1.0    20071\n",
              "0.0    16009\n",
              "Name: M, dtype: int64"
            ]
          },
          "metadata": {},
          "execution_count": 37
        },
        {
          "output_type": "execute_result",
          "data": {
            "text/plain": [
              "1.0    55.629157\n",
              "0.0    44.370843\n",
              "Name: M, dtype: float64"
            ]
          },
          "metadata": {},
          "execution_count": 37
        },
        {
          "output_type": "execute_result",
          "data": {
            "text/plain": [
              "0.0    32557\n",
              "1.0     3523\n",
              "Name: BLACK, dtype: int64"
            ]
          },
          "metadata": {},
          "execution_count": 37
        },
        {
          "output_type": "execute_result",
          "data": {
            "text/plain": [
              "0.0    90.235588\n",
              "1.0     9.764412\n",
              "Name: BLACK, dtype: float64"
            ]
          },
          "metadata": {},
          "execution_count": 37
        },
        {
          "output_type": "execute_result",
          "data": {
            "text/plain": [
              "count    15463.000000\n",
              "mean        55.401539\n",
              "std         25.254900\n",
              "min          0.000000\n",
              "25%         45.000000\n",
              "50%         61.000000\n",
              "75%         75.000000\n",
              "max         89.000000\n",
              "Name: AGE, dtype: float64"
            ]
          },
          "metadata": {},
          "execution_count": 37
        },
        {
          "output_type": "execute_result",
          "data": {
            "text/plain": [
              "1.0    8620\n",
              "0.0    6843\n",
              "Name: M, dtype: int64"
            ]
          },
          "metadata": {},
          "execution_count": 37
        },
        {
          "output_type": "execute_result",
          "data": {
            "text/plain": [
              "1.0    55.745974\n",
              "0.0    44.254026\n",
              "Name: M, dtype: float64"
            ]
          },
          "metadata": {},
          "execution_count": 37
        },
        {
          "output_type": "execute_result",
          "data": {
            "text/plain": [
              "0.0    13975\n",
              "1.0     1488\n",
              "Name: BLACK, dtype: int64"
            ]
          },
          "metadata": {},
          "execution_count": 37
        },
        {
          "output_type": "execute_result",
          "data": {
            "text/plain": [
              "0.0    90.377029\n",
              "1.0     9.622971\n",
              "Name: BLACK, dtype: float64"
            ]
          },
          "metadata": {},
          "execution_count": 37
        }
      ]
    },
    {
      "cell_type": "markdown",
      "source": [
        "### 1.4 Distribution of number of days in ICU"
      ],
      "metadata": {
        "id": "qFl_5G9NWbtB"
      }
    },
    {
      "cell_type": "code",
      "source": [
        "df_bl['day_counts'].describe()\n",
        "df_bl[['day_counts']].hist()\n",
        "\n",
        "train_data['day_counts'].describe()\n",
        "test_data['day_counts'].describe()\n"
      ],
      "metadata": {
        "colab": {
          "base_uri": "https://localhost:8080/",
          "height": 732
        },
        "id": "jzBVcI-YWi91",
        "outputId": "a1934502-c0ab-465b-cdbf-3b67052dc7a8"
      },
      "execution_count": 34,
      "outputs": [
        {
          "output_type": "execute_result",
          "data": {
            "text/plain": [
              "count    51543.000000\n",
              "mean        10.492463\n",
              "std          9.435282\n",
              "min          2.000000\n",
              "25%          5.000000\n",
              "50%          7.000000\n",
              "75%         13.000000\n",
              "max         66.000000\n",
              "Name: day_counts, dtype: float64"
            ]
          },
          "metadata": {},
          "execution_count": 34
        },
        {
          "output_type": "execute_result",
          "data": {
            "text/plain": [
              "array([[<matplotlib.axes._subplots.AxesSubplot object at 0x7ff98c0b7950>]],\n",
              "      dtype=object)"
            ]
          },
          "metadata": {},
          "execution_count": 34
        },
        {
          "output_type": "execute_result",
          "data": {
            "text/plain": [
              "count    36080.000000\n",
              "mean        10.521037\n",
              "std          9.464111\n",
              "min          2.000000\n",
              "25%          5.000000\n",
              "50%          8.000000\n",
              "75%         13.000000\n",
              "max         66.000000\n",
              "Name: day_counts, dtype: float64"
            ]
          },
          "metadata": {},
          "execution_count": 34
        },
        {
          "output_type": "execute_result",
          "data": {
            "text/plain": [
              "count    15463.000000\n",
              "mean        10.425791\n",
              "std          9.367635\n",
              "min          2.000000\n",
              "25%          5.000000\n",
              "50%          7.000000\n",
              "75%         13.000000\n",
              "max         66.000000\n",
              "Name: day_counts, dtype: float64"
            ]
          },
          "metadata": {},
          "execution_count": 34
        },
        {
          "output_type": "display_data",
          "data": {
            "text/plain": [
              "<Figure size 432x288 with 1 Axes>"
            ],
            "image/png": "[encoded data removed]"
          },
          "metadata": {
            "needs_background": "light"
          }
        }
      ]
    },
    {
      "cell_type": "markdown",
      "source": [
        "## 2. Baseline model\n",
        "### 2.1 Logistic regression"
      ],
      "metadata": {
        "id": "5HR9qpsgatnu"
      }
    },
    {
      "cell_type": "code",
      "source": [
        "from sklearn.linear_model import LogisticRegression\n",
        "from sklearn.metrics import accuracy_score\n",
        "from sklearn.metrics import roc_auc_score\n",
        "\n",
        "### 1. MI\n",
        "\n",
        "LogisticMod = LogisticRegression(solver = 'liblinear')\n",
        "LogisticMod.fit(X_MI_train, y_MI_train )\n",
        "#acc_train = LogisticMod.score(X_MI_train, y_MI_train)\n",
        "#acc_val = LogisticMod.score(X_MI_val, y_MI_val)\n",
        "\n",
        "## training set accuracy\n",
        "y_MI_train_hat = LogisticMod.predict(X_MI_train)\n",
        "acc_MI_train = accuracy_score(y_MI_train, y_MI_train_hat)\n",
        "roc_MI_train = roc_auc_score(y_MI_train, y_MI_train_hat)\n",
        "\n",
        "## validation set accuracy\n",
        "y_MI_val_hat = LogisticMod.predict(X_MI_val)\n",
        "acc_MI_val = accuracy_score(y_MI_val, y_MI_val_hat)\n",
        "roc_MI_val = roc_auc_score(y_MI_val, y_MI_val_hat)\n",
        "\n",
        "print(\"-\"*10 + \" Training Set (MI) \" + \"-\"*10)\n",
        "print(f'Accuracy: {acc_MI_train}')\n",
        "print(f'AUROC: {roc_MI_train}')\n",
        "\n",
        "print(\"-\"*10 + \" Validation Set (MI) \" + \"-\"*10)\n",
        "print(f'Accuracy: {acc_MI_val}')\n",
        "print(f'AUROC: {roc_MI_val}')\n",
        "\n",
        "### 2. Sepsis \n",
        "LogisticMod = LogisticRegression(solver = 'liblinear')\n",
        "LogisticMod.fit(X_sepsis_train, y_sepsis_train )\n",
        "#acc_train = LogisticMod.score(X_sepsis_train, y_sepsis_train)\n",
        "#acc_val = LogisticMod.score(X_sepsis_val, y_sepsis_val)\n",
        "\n",
        "## training set accuracy\n",
        "y_sepsis_train_hat = LogisticMod.predict(X_sepsis_train)\n",
        "acc_sepsis_train = accuracy_score(y_sepsis_train, y_sepsis_train_hat)\n",
        "roc_sepsis_train = roc_auc_score(y_sepsis_train, y_sepsis_train_hat)\n",
        "\n",
        "## validation set accuracy\n",
        "y_sepsis_val_hat = LogisticMod.predict(X_sepsis_val)\n",
        "acc_sepsis_val = accuracy_score(y_sepsis_val, y_sepsis_val_hat)\n",
        "roc_sepsis_val = roc_auc_score(y_sepsis_val, y_sepsis_val_hat)\n",
        "\n",
        "print(\"-\"*10 + \" Training Set (Sepsis) \" + \"-\"*10)\n",
        "print(f'Accuracy: {acc_sepsis_train}')\n",
        "print(f'AUROC: {roc_sepsis_train}')\n",
        "\n",
        "print(\"-\"*10 + \" Validation Set (Sepsis) \" + \"-\"*10)\n",
        "print(f'Accuracy: {acc_sepsis_val}')\n",
        "print(f'AUROC: {roc_sepsis_val}')"
      ],
      "metadata": {
        "colab": {
          "base_uri": "https://localhost:8080/"
        },
        "id": "XoHMEoqwa9my",
        "outputId": "9ce3b304-a0a2-40bc-8672-13d33f95d4a9"
      },
      "execution_count": 40,
      "outputs": [
        {
          "output_type": "execute_result",
          "data": {
            "text/plain": [
              "LogisticRegression(solver='liblinear')"
            ]
          },
          "metadata": {},
          "execution_count": 40
        },
        {
          "output_type": "stream",
          "name": "stdout",
          "text": [
            "---------- Training Set (MI) ----------\n",
            "Accuracy: 0.9775221729490022\n",
            "AUROC: 0.4999149539333806\n",
            "---------- Validation Set (MI) ----------\n",
            "Accuracy: 0.9802108258423333\n",
            "AUROC: 0.4999340325879016\n"
          ]
        },
        {
          "output_type": "execute_result",
          "data": {
            "text/plain": [
              "LogisticRegression(solver='liblinear')"
            ]
          },
          "metadata": {},
          "execution_count": 40
        },
        {
          "output_type": "stream",
          "name": "stdout",
          "text": [
            "---------- Training Set (Sepsis) ----------\n",
            "Accuracy: 0.743320399113082\n",
            "AUROC: 0.49988816402609504\n",
            "---------- Validation Set (Sepsis) ----------\n",
            "Accuracy: 0.7451982150940956\n",
            "AUROC: 0.4999132321041215\n"
          ]
        }
      ]
    },
    {
      "cell_type": "markdown",
      "source": [
        "### 2.2 Multi-layer neural network\n",
        "**Accuracies of both outcomes does not improve when N_EPOCHS > 2**"
      ],
      "metadata": {
        "id": "Y8WVG6Qfi6UF"
      }
    },
    {
      "cell_type": "code",
      "source": [
        "# Train a multi-layer neural network using Keras\n",
        "\n",
        "from keras.models import Sequential\n",
        "from keras.layers import Dense\n",
        "from tensorflow.keras.optimizers import SGD\n",
        "\n",
        "N_EPOCHS = 10 # performance doesn't improve after N_POCHS>2\n",
        "BATCH_SIZE = 30 # Decide on the batch size "
      ],
      "metadata": {
        "id": "iUJNTNvsjB2V"
      },
      "execution_count": 42,
      "outputs": []
    },
    {
      "cell_type": "markdown",
      "source": [
        "### 2.2.1 MI"
      ],
      "metadata": {
        "id": "0jNZftA8jYjw"
      }
    },
    {
      "cell_type": "code",
      "source": [
        "from tensorflow.keras.layers import Dense, Dropout, Activation\n",
        "from tensorflow.keras.optimizers import Adam\n",
        "from tensorflow.keras import metrics\n",
        "\n",
        "## Define the model\n",
        "model = Sequential()\n",
        "## Your model specification goes below\n",
        "num_features = X_MI_train.shape[1]\n",
        "\n",
        "model = Sequential()\n",
        "model.add(Dense(units=32, activation='relu', input_dim=num_features, name='hidden_layer'))\n",
        "model.add(Dense(units=1, activation='sigmoid', name='output_layer')) \n",
        "\n",
        "## After you have specified the model, compile it with an appropriate loss function and optimizer\n",
        "opt = SGD(learning_rate=0.1)\n",
        "\n",
        "METRICS = [\n",
        "      metrics.BinaryAccuracy(name='accuracy'),\n",
        "      #metrics.AUC(name='auc'),\n",
        "]\n",
        "\n",
        "model.compile(optimizer=opt, loss='binary_crossentropy', metrics=METRICS)\n",
        "\n",
        "model.summary()\n",
        "## Now fit the model with a call to model.fit()\n",
        "history = model.fit(x=X_MI_train, \n",
        "         y=y_MI_train,\n",
        "         validation_data = (X_MI_val, y_MI_val),\n",
        "         batch_size=BATCH_SIZE,\n",
        "         epochs=N_EPOCHS)"
      ],
      "metadata": {
        "colab": {
          "base_uri": "https://localhost:8080/"
        },
        "id": "HdMnu_sdjRrb",
        "outputId": "d4e2e253-d2c8-46d3-ec6e-0c2ce1403f9f"
      },
      "execution_count": 59,
      "outputs": [
        {
          "output_type": "stream",
          "name": "stdout",
          "text": [
            "Model: \"sequential_29\"\n",
            "_________________________________________________________________\n",
            " Layer (type)                Output Shape              Param #   \n",
            "=================================================================\n",
            " hidden_layer (Dense)        (None, 32)                7104      \n",
            "                                                                 \n",
            " output_layer (Dense)        (None, 1)                 33        \n",
            "                                                                 \n",
            "=================================================================\n",
            "Total params: 7,137\n",
            "Trainable params: 7,137\n",
            "Non-trainable params: 0\n",
            "_________________________________________________________________\n",
            "Epoch 1/10\n",
            "1203/1203 [==============================] - 6s 4ms/step - loss: nan - accuracy: 0.9769 - val_loss: nan - val_accuracy: 0.9803\n",
            "Epoch 2/10\n",
            "1203/1203 [==============================] - 4s 3ms/step - loss: nan - accuracy: 0.9777 - val_loss: nan - val_accuracy: 0.9803\n",
            "Epoch 3/10\n",
            "1203/1203 [==============================] - 4s 4ms/step - loss: nan - accuracy: 0.9777 - val_loss: nan - val_accuracy: 0.9803\n",
            "Epoch 4/10\n",
            "1203/1203 [==============================] - 4s 4ms/step - loss: nan - accuracy: 0.9777 - val_loss: nan - val_accuracy: 0.9803\n",
            "Epoch 5/10\n",
            "1203/1203 [==============================] - 4s 4ms/step - loss: nan - accuracy: 0.9777 - val_loss: nan - val_accuracy: 0.9803\n",
            "Epoch 6/10\n",
            "1203/1203 [==============================] - 4s 4ms/step - loss: nan - accuracy: 0.9777 - val_loss: nan - val_accuracy: 0.9803\n",
            "Epoch 7/10\n",
            "1203/1203 [==============================] - 4s 3ms/step - loss: nan - accuracy: 0.9777 - val_loss: nan - val_accuracy: 0.9803\n",
            "Epoch 8/10\n",
            "1203/1203 [==============================] - 4s 3ms/step - loss: nan - accuracy: 0.9777 - val_loss: nan - val_accuracy: 0.9803\n",
            "Epoch 9/10\n",
            "1203/1203 [==============================] - 4s 4ms/step - loss: nan - accuracy: 0.9777 - val_loss: nan - val_accuracy: 0.9803\n",
            "Epoch 10/10\n",
            "1203/1203 [==============================] - 4s 3ms/step - loss: nan - accuracy: 0.9777 - val_loss: nan - val_accuracy: 0.9803\n"
          ]
        }
      ]
    },
    {
      "cell_type": "markdown",
      "source": [
        "### 2.2 Sepsis"
      ],
      "metadata": {
        "id": "R-lbv6L8lWnc"
      }
    },
    {
      "cell_type": "code",
      "source": [
        "from pyparsing.core import Opt\n",
        "## Define the model\n",
        "model = Sequential()\n",
        "## Your model specification goes below\n",
        "num_features = X_sepsis_train.shape[1]\n",
        "\n",
        "## add more layers/dropout didn't improve accuracy, performance didn't improve after EPOCH > 2\n",
        "model = Sequential()\n",
        "model.add(Dense(units=32, activation='relu', input_dim=num_features, name='hidden_layer'))\n",
        "model.add(Dense(units=1, activation='sigmoid', name='output_layer')) \n",
        "\n",
        "## After you have specified the model, compile it with an appropriate loss function and optimizer\n",
        "opt = SGD(learning_rate=0.1)\n",
        "\n",
        "model.compile(optimizer=opt, loss='binary_crossentropy', metrics=['accuracy'])\n",
        "model.summary()\n",
        "\n",
        "\n",
        "## Now fit the model with a call to model.fit()\n",
        "history = model.fit(x=X_sepsis_train, \n",
        "         y=y_sepsis_train,\n",
        "         validation_data = (X_sepsis_val, y_sepsis_val),\n",
        "         batch_size=BATCH_SIZE,\n",
        "         epochs=N_EPOCHS)"
      ],
      "metadata": {
        "colab": {
          "base_uri": "https://localhost:8080/"
        },
        "id": "3MVES_2BlYgC",
        "outputId": "72237404-68cc-459a-876b-9a62e43e96fe"
      },
      "execution_count": null,
      "outputs": [
        {
          "output_type": "stream",
          "name": "stdout",
          "text": [
            "Model: \"sequential_23\"\n",
            "_________________________________________________________________\n",
            " Layer (type)                Output Shape              Param #   \n",
            "=================================================================\n",
            " hidden_layer (Dense)        (None, 32)                7232      \n",
            "                                                                 \n",
            " output_layer (Dense)        (None, 1)                 33        \n",
            "                                                                 \n",
            "=================================================================\n",
            "Total params: 7,265\n",
            "Trainable params: 7,265\n",
            "Non-trainable params: 0\n",
            "_________________________________________________________________\n",
            "Epoch 1/10\n",
            "1203/1203 [==============================] - 5s 3ms/step - loss: nan - accuracy: 0.7431 - val_loss: nan - val_accuracy: 0.7455\n",
            "Epoch 2/10\n",
            "1203/1203 [==============================] - 4s 4ms/step - loss: nan - accuracy: 0.7434 - val_loss: nan - val_accuracy: 0.7455\n",
            "Epoch 3/10\n",
            "1203/1203 [==============================] - 4s 3ms/step - loss: nan - accuracy: 0.7434 - val_loss: nan - val_accuracy: 0.7455\n",
            "Epoch 4/10\n",
            "1203/1203 [==============================] - 4s 3ms/step - loss: nan - accuracy: 0.7434 - val_loss: nan - val_accuracy: 0.7455\n",
            "Epoch 5/10\n",
            "1203/1203 [==============================] - 4s 3ms/step - loss: nan - accuracy: 0.7434 - val_loss: nan - val_accuracy: 0.7455\n",
            "Epoch 6/10\n",
            "1203/1203 [==============================] - 4s 3ms/step - loss: nan - accuracy: 0.7434 - val_loss: nan - val_accuracy: 0.7455\n",
            "Epoch 7/10\n",
            "1203/1203 [==============================] - 4s 3ms/step - loss: nan - accuracy: 0.7434 - val_loss: nan - val_accuracy: 0.7455\n",
            "Epoch 8/10\n",
            "1203/1203 [==============================] - 4s 4ms/step - loss: nan - accuracy: 0.7434 - val_loss: nan - val_accuracy: 0.7455\n",
            "Epoch 9/10\n",
            "1203/1203 [==============================] - 4s 4ms/step - loss: nan - accuracy: 0.7434 - val_loss: nan - val_accuracy: 0.7455\n",
            "Epoch 10/10\n",
            "1203/1203 [==============================] - 4s 3ms/step - loss: nan - accuracy: 0.7434 - val_loss: nan - val_accuracy: 0.7455\n"
          ]
        }
      ]
    }
  ]
}